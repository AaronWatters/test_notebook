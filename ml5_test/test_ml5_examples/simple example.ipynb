{
 "cells": [
  {
   "cell_type": "code",
   "execution_count": 1,
   "metadata": {},
   "outputs": [],
   "source": [
    "from ml5_test import ml5_init"
   ]
  },
  {
   "cell_type": "markdown",
   "metadata": {},
   "source": [
    "### Simple Color Classification"
   ]
  },
  {
   "cell_type": "code",
   "execution_count": null,
   "metadata": {},
   "outputs": [],
   "source": [
    "test = ml5_init.ML5Class()\n",
    "test.options['debug']=True\n",
    "test.options['task']='classification'\n",
    "test.initialize_framework()\n",
    "# test.debugging_display()"
   ]
  },
  {
   "cell_type": "code",
   "execution_count": null,
   "metadata": {},
   "outputs": [],
   "source": [
    "data = [\n",
    "  {'r':255, 'g':1, 'b':0, 'color':'red-ish'},\n",
    "  {'r':254, 'g':0, 'b':0, 'color':'red-ish'},\n",
    "  {'r':253, 'g':0, 'b':0, 'color':'red-ish'},\n",
    "  {'r':0, 'g':0, 'b':255, 'color':'blue-ish'},\n",
    "  {'r':0, 'g':0, 'b':254, 'color':'blue-ish'},\n",
    "  {'r':0, 'g':0, 'b':253, 'color':'blue-ish'},\n",
    "]"
   ]
  },
  {
   "cell_type": "code",
   "execution_count": null,
   "metadata": {},
   "outputs": [],
   "source": [
    "for d in data:\n",
    "    i = {'r':d['r'], 'g': d['g'], 'b': d['b']}\n",
    "    o = {'color': d['color']}\n",
    "    test.add_data(i,o)"
   ]
  },
  {
   "cell_type": "code",
   "execution_count": null,
   "metadata": {},
   "outputs": [],
   "source": [
    "test.normalize_data()\n",
    "trainingOptions = {\n",
    "  'epochs': 32,\n",
    "  'batchSize': 12\n",
    "}\n",
    "test.train_data(trainingOptions)"
   ]
  },
  {
   "cell_type": "code",
   "execution_count": null,
   "metadata": {},
   "outputs": [],
   "source": [
    "test.classify_data({'r': 255, 'g': 0, 'b': 0})"
   ]
  },
  {
   "cell_type": "code",
   "execution_count": null,
   "metadata": {},
   "outputs": [],
   "source": [
    "test.classify_data({'r': 0, 'g': 0, 'b': 255})"
   ]
  },
  {
   "cell_type": "code",
   "execution_count": null,
   "metadata": {},
   "outputs": [],
   "source": [
    "test.classify_callback_list[0]"
   ]
  },
  {
   "cell_type": "code",
   "execution_count": null,
   "metadata": {},
   "outputs": [],
   "source": [
    "test.classify_callback_list[1]"
   ]
  },
  {
   "cell_type": "markdown",
   "metadata": {},
   "source": [
    "___________\n",
    "\n",
    "### Simple Classification"
   ]
  },
  {
   "cell_type": "code",
   "execution_count": 2,
   "metadata": {},
   "outputs": [
    {
     "data": {
      "application/vnd.jupyter.widget-view+json": {
       "model_id": "06102204bd5f45f0b16c67aa882ccfaa",
       "version_major": 2,
       "version_minor": 0
      },
      "text/plain": [
       "VBox(children=(ML5Class(status='deferring flush until render'), Text(value='deferring flush until render', des…"
      ]
     },
     "metadata": {},
     "output_type": "display_data"
    }
   ],
   "source": [
    "options = {\n",
    "  'inputs': 1,\n",
    "  'outputs': 2,\n",
    "  'task': 'classification',\n",
    "  'debug': True\n",
    "}\n",
    "test = ml5_init.ML5Class(options)\n",
    "test.initialize_framework()"
   ]
  },
  {
   "cell_type": "code",
   "execution_count": 3,
   "metadata": {},
   "outputs": [],
   "source": [
    "import numpy as np\n",
    "for i in range(400):\n",
    "    if i%2==0:\n",
    "        x = np.random.randint(0, 200)\n",
    "        test.add_data( [x],  ['left'])\n",
    "    else:\n",
    "        x = np.random.randint(200,400)\n",
    "        test.add_data( [x],  ['right'])"
   ]
  },
  {
   "cell_type": "code",
   "execution_count": 4,
   "metadata": {},
   "outputs": [],
   "source": [
    "test.normalize_data()"
   ]
  },
  {
   "cell_type": "code",
   "execution_count": 5,
   "metadata": {},
   "outputs": [],
   "source": [
    "trainingOptions={\n",
    "    'batchSize': 24,\n",
    "    'epochs': 32\n",
    "  }\n",
    "  \n",
    "test.train_data(trainingOptions)"
   ]
  },
  {
   "cell_type": "code",
   "execution_count": 6,
   "metadata": {},
   "outputs": [],
   "source": [
    "test.classify_data([300])"
   ]
  },
  {
   "cell_type": "code",
   "execution_count": 7,
   "metadata": {},
   "outputs": [
    {
     "data": {
      "text/plain": [
       "[[{'right': 0.9985272288322449,\n",
       "   'label': 'right',\n",
       "   'confidence': 0.9985272288322449},\n",
       "  {'left': 0.001472767791710794,\n",
       "   'label': 'left',\n",
       "   'confidence': 0.001472767791710794}]]"
      ]
     },
     "execution_count": 7,
     "metadata": {},
     "output_type": "execute_result"
    }
   ],
   "source": [
    "test.classify_callback_list"
   ]
  }
 ],
 "metadata": {
  "kernelspec": {
   "display_name": "Python 3",
   "language": "python",
   "name": "python3"
  },
  "language_info": {
   "codemirror_mode": {
    "name": "ipython",
    "version": 3
   },
   "file_extension": ".py",
   "mimetype": "text/x-python",
   "name": "python",
   "nbconvert_exporter": "python",
   "pygments_lexer": "ipython3",
   "version": "3.7.0"
  }
 },
 "nbformat": 4,
 "nbformat_minor": 4
}
