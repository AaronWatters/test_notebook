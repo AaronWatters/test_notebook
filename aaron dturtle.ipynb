{
 "cells": [
  {
   "cell_type": "code",
   "execution_count": null,
   "metadata": {},
   "outputs": [],
   "source": [
    "import aaron_turtle as d_turtle\n",
    "import numpy as np"
   ]
  },
  {
   "cell_type": "code",
   "execution_count": null,
   "metadata": {},
   "outputs": [],
   "source": [
    "tess = d_turtle.Turtle()\n",
    "tess.shape(\"turtle\")\n",
    "tess.color('blue')"
   ]
  },
  {
   "cell_type": "code",
   "execution_count": null,
   "metadata": {},
   "outputs": [],
   "source": [
    "#from IPython.display import display, Markdown\n",
    "#display(Markdown(\"```Javascript\\n%s\\n```\" % tess.all_js))"
   ]
  },
  {
   "cell_type": "code",
   "execution_count": null,
   "metadata": {},
   "outputs": [],
   "source": [
    "for i in range(1,6):\n",
    "    tess.backward(100)\n",
    "#     tess.goto(x=(63,36))\n",
    "    tess.right(150)"
   ]
  },
  {
   "cell_type": "code",
   "execution_count": null,
   "metadata": {},
   "outputs": [],
   "source": [
    "tess.home()"
   ]
  },
  {
   "cell_type": "code",
   "execution_count": null,
   "metadata": {},
   "outputs": [],
   "source": [
    "tess.hideturtle()"
   ]
  },
  {
   "cell_type": "code",
   "execution_count": null,
   "metadata": {},
   "outputs": [],
   "source": [
    "tess.showturtle()"
   ]
  },
  {
   "cell_type": "code",
   "execution_count": null,
   "metadata": {},
   "outputs": [],
   "source": [
    "tess.setheading(270)"
   ]
  },
  {
   "cell_type": "code",
   "execution_count": null,
   "metadata": {},
   "outputs": [],
   "source": [
    "tess.heading()"
   ]
  },
  {
   "cell_type": "code",
   "execution_count": null,
   "metadata": {},
   "outputs": [],
   "source": [
    "tess.backward(100)"
   ]
  },
  {
   "cell_type": "code",
   "execution_count": null,
   "metadata": {},
   "outputs": [],
   "source": [
    "tess.goto(100,100)"
   ]
  },
  {
   "cell_type": "code",
   "execution_count": null,
   "metadata": {},
   "outputs": [],
   "source": [
    "tess.right(150)"
   ]
  },
  {
   "cell_type": "code",
   "execution_count": null,
   "metadata": {},
   "outputs": [],
   "source": [
    "tess.forward(50)"
   ]
  },
  {
   "cell_type": "code",
   "execution_count": null,
   "metadata": {},
   "outputs": [],
   "source": [
    "tess.stamp()"
   ]
  },
  {
   "cell_type": "code",
   "execution_count": null,
   "metadata": {},
   "outputs": [],
   "source": [
    "tess.backward(100)\n",
    "tess.right(150)"
   ]
  },
  {
   "cell_type": "code",
   "execution_count": null,
   "metadata": {},
   "outputs": [],
   "source": [
    "tess.stamp()"
   ]
  },
  {
   "cell_type": "code",
   "execution_count": null,
   "metadata": {},
   "outputs": [],
   "source": [
    "tess.stampsId"
   ]
  },
  {
   "cell_type": "code",
   "execution_count": null,
   "metadata": {},
   "outputs": [],
   "source": [
    "tess.stampsItem"
   ]
  },
  {
   "cell_type": "code",
   "execution_count": null,
   "metadata": {},
   "outputs": [],
   "source": [
    "tess.stamp_id"
   ]
  },
  {
   "cell_type": "code",
   "execution_count": null,
   "metadata": {},
   "outputs": [],
   "source": [
    "tess.clearstamps()"
   ]
  },
  {
   "cell_type": "code",
   "execution_count": null,
   "metadata": {},
   "outputs": [],
   "source": [
    "# tess.icon.change(color='blue')"
   ]
  },
  {
   "cell_type": "code",
   "execution_count": 1,
   "metadata": {},
   "outputs": [],
   "source": [
    "import aaron_designer as bytedesign"
   ]
  },
  {
   "cell_type": "code",
   "execution_count": 2,
   "metadata": {},
   "outputs": [
    {
     "data": {
      "application/vnd.jupyter.widget-view+json": {
       "model_id": "64d4b23b78064e9e8036756c282c2e16",
       "version_major": 2,
       "version_minor": 0
      },
      "text/plain": [
       "VBox(children=(DualCanvasWidget(status='deferring flush until render'), Text(value='deferring flush until rend…"
      ]
     },
     "metadata": {},
     "output_type": "display_data"
    }
   ],
   "source": [
    "# You have to initialize the designer in once cell\n",
    "# and start design() in another cell, otherwise too many messages get buffered.\n",
    "designer = bytedesign.Designer()"
   ]
  },
  {
   "cell_type": "code",
   "execution_count": 3,
   "metadata": {},
   "outputs": [],
   "source": [
    "designer.speed(0)\n",
    "#designer.speed_move = 10"
   ]
  },
  {
   "cell_type": "code",
   "execution_count": 4,
   "metadata": {},
   "outputs": [
    {
     "data": {
      "text/plain": [
       "(None, 0)"
      ]
     },
     "execution_count": 4,
     "metadata": {},
     "output_type": "execute_result"
    }
   ],
   "source": [
    "designer.hideturtle()\n",
    "designer.draw_limit, designer.draw_count"
   ]
  },
  {
   "cell_type": "code",
   "execution_count": null,
   "metadata": {},
   "outputs": [
    {
     "name": "stdout",
     "output_type": "stream",
     "text": [
      "FLUSH AND SLEEP\n",
      "FakeScreen getattr\n",
      "FLUSH AND SLEEP\n",
      "FakeScreen getattr\n",
      "FLUSH AND SLEEP\n",
      "FakeScreen getattr\n",
      "FLUSH AND SLEEP\n",
      "FakeScreen getattr\n",
      "FLUSH AND SLEEP\n",
      "FakeScreen getattr\n",
      "FLUSH AND SLEEP\n",
      "FakeScreen getattr\n",
      "FLUSH AND SLEEP\n",
      "FakeScreen getattr\n",
      "FLUSH AND SLEEP\n",
      "FakeScreen getattr\n",
      "FLUSH AND SLEEP\n",
      "FakeScreen getattr\n",
      "FLUSH AND SLEEP\n",
      "FakeScreen getattr\n",
      "FLUSH AND SLEEP\n",
      "FakeScreen getattr\n",
      "FLUSH AND SLEEP\n",
      "FakeScreen getattr\n",
      "FLUSH AND SLEEP\n",
      "FakeScreen getattr\n",
      "FLUSH AND SLEEP\n",
      "FakeScreen getattr\n",
      "FLUSH AND SLEEP\n",
      "FakeScreen getattr\n",
      "FLUSH AND SLEEP\n",
      "FakeScreen getattr\n",
      "FLUSH AND SLEEP\n",
      "FakeScreen getattr\n",
      "FLUSH AND SLEEP\n",
      "FakeScreen getattr\n",
      "FLUSH AND SLEEP\n",
      "FakeScreen getattr\n",
      "FLUSH AND SLEEP\n",
      "FakeScreen getattr\n",
      "FLUSH AND SLEEP\n",
      "FakeScreen getattr\n",
      "FLUSH AND SLEEP\n",
      "FakeScreen getattr\n",
      "FLUSH AND SLEEP\n",
      "FakeScreen getattr\n",
      "FLUSH AND SLEEP\n",
      "FakeScreen getattr\n",
      "FLUSH AND SLEEP\n",
      "FakeScreen getattr\n",
      "FLUSH AND SLEEP\n",
      "FakeScreen getattr\n",
      "FLUSH AND SLEEP\n",
      "FakeScreen getattr\n",
      "FLUSH AND SLEEP\n",
      "FakeScreen getattr\n",
      "FLUSH AND SLEEP\n",
      "FakeScreen getattr\n",
      "FLUSH AND SLEEP\n",
      "FakeScreen getattr\n",
      "FLUSH AND SLEEP\n",
      "FakeScreen getattr\n",
      "FLUSH AND SLEEP\n",
      "FakeScreen getattr\n",
      "FLUSH AND SLEEP\n",
      "FakeScreen getattr\n",
      "FLUSH AND SLEEP\n",
      "FakeScreen getattr\n",
      "FLUSH AND SLEEP\n",
      "FakeScreen getattr\n",
      "FLUSH AND SLEEP\n",
      "FakeScreen getattr\n",
      "FLUSH AND SLEEP\n",
      "FakeScreen getattr\n",
      "FLUSH AND SLEEP\n",
      "FakeScreen getattr\n",
      "FLUSH AND SLEEP\n",
      "FakeScreen getattr\n",
      "FLUSH AND SLEEP\n",
      "FakeScreen getattr\n",
      "FLUSH AND SLEEP\n",
      "FakeScreen getattr\n",
      "FLUSH AND SLEEP\n"
     ]
    }
   ],
   "source": [
    "designer.screen.auto_flush = False\n",
    "designer.screen.element.allow_auto_redraw(False)\n",
    "# For now limit the number ob draw operations\n",
    "designer.draw_limit = 25000\n",
    "#designer.screen.verbose = True\n",
    "\n",
    "designer.design(designer.position(), 1)\n",
    "designer.screen.flush()\n",
    "designer.screen.auto_flush = True\n",
    "designer.screen.element.allow_auto_redraw(True)"
   ]
  },
  {
   "cell_type": "code",
   "execution_count": null,
   "metadata": {},
   "outputs": [],
   "source": [
    "designer.speed_move"
   ]
  },
  {
   "cell_type": "code",
   "execution_count": null,
   "metadata": {},
   "outputs": [],
   "source": []
  }
 ],
 "metadata": {
  "kernelspec": {
   "display_name": "Python 3",
   "language": "python",
   "name": "python3"
  },
  "language_info": {
   "codemirror_mode": {
    "name": "ipython",
    "version": 3
   },
   "file_extension": ".py",
   "mimetype": "text/x-python",
   "name": "python",
   "nbconvert_exporter": "python",
   "pygments_lexer": "ipython3",
   "version": "3.6.8"
  }
 },
 "nbformat": 4,
 "nbformat_minor": 4
}
