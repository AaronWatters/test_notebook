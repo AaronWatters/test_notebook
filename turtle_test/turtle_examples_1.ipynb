{
 "cells": [
  {
   "cell_type": "code",
   "execution_count": null,
   "metadata": {},
   "outputs": [],
   "source": [
    "import turtle_1 as turtle"
   ]
  },
  {
   "cell_type": "markdown",
   "metadata": {},
   "source": [
    "# Baisc Function Examples\n",
    "\n",
    "## Example 1: Draw a line\n",
    "\n",
    "Use `forward(distance)` and `backward(distance)` to draw a straight line.  \n",
    "`left(degree)` and `right(degree)` to change the move direction."
   ]
  },
  {
   "cell_type": "code",
   "execution_count": null,
   "metadata": {},
   "outputs": [],
   "source": [
    "tess = turtle.Turtle()\n",
    "tess.forward(100)\n",
    "turtle.reset()"
   ]
  },
  {
   "cell_type": "code",
   "execution_count": null,
   "metadata": {},
   "outputs": [],
   "source": [
    "tess = turtle.Turtle()\n",
    "tess.left(45)\n",
    "tess.forward(100)\n",
    "turtle.reset()"
   ]
  },
  {
   "cell_type": "markdown",
   "metadata": {},
   "source": [
    "You can also use `setheading(degrees)` to control the moving direction."
   ]
  },
  {
   "cell_type": "code",
   "execution_count": null,
   "metadata": {},
   "outputs": [],
   "source": [
    "tess = turtle.Turtle()\n",
    "tess.forward(100)\n",
    "tess.setheading(90)\n",
    "tess.forward(100)\n",
    "turtle.reset()"
   ]
  },
  {
   "cell_type": "markdown",
   "metadata": {},
   "source": [
    "## Example 2: Draw a square"
   ]
  },
  {
   "cell_type": "code",
   "execution_count": null,
   "metadata": {},
   "outputs": [],
   "source": [
    "tess = turtle.Turtle()\n",
    "for i in range(4):\n",
    "    tess.right(90)\n",
    "    tess.forward(50)\n",
    "turtle.reset()"
   ]
  },
  {
   "cell_type": "markdown",
   "metadata": {},
   "source": [
    "## Example 3: Draw a polygon"
   ]
  },
  {
   "cell_type": "code",
   "execution_count": null,
   "metadata": {},
   "outputs": [],
   "source": [
    "tess = turtle.Turtle()\n",
    "for i in range(6):\n",
    "    tess.right(60)\n",
    "    tess.forward(50)\n",
    "turtle.reset()"
   ]
  },
  {
   "cell_type": "markdown",
   "metadata": {},
   "source": [
    "## Example 4:  turtle stamp\n",
    "\n",
    "Call `stamp()` to mark the position of the turtle.\n",
    "Clear the most recent stamp, use `clearstamp()` without any input.   \n",
    "Also, you can input the stamp id to clear the one you want to delete."
   ]
  },
  {
   "cell_type": "code",
   "execution_count": null,
   "metadata": {},
   "outputs": [],
   "source": [
    "tess = turtle.Turtle()\n",
    "for i in range(6):\n",
    "    tess.right(60)\n",
    "    tess.stamp()\n",
    "    tess.forward(50)\n",
    "turtle.reset()"
   ]
  },
  {
   "cell_type": "code",
   "execution_count": null,
   "metadata": {},
   "outputs": [],
   "source": [
    "# clear stamps with id of 4\n",
    "tess.clearstamp(4)"
   ]
  },
  {
   "cell_type": "code",
   "execution_count": null,
   "metadata": {},
   "outputs": [],
   "source": [
    "# clear first two stamps\n",
    "tess.clearstamps(2)"
   ]
  },
  {
   "cell_type": "code",
   "execution_count": null,
   "metadata": {},
   "outputs": [],
   "source": [
    "# clear all stamps\n",
    "tess.clearstamps()"
   ]
  },
  {
   "cell_type": "markdown",
   "metadata": {},
   "source": [
    "# Turtle Icon\n",
    "\n",
    "## Change the shape of the turtle"
   ]
  },
  {
   "cell_type": "code",
   "execution_count": null,
   "metadata": {},
   "outputs": [],
   "source": [
    "tess = turtle.Turtle()\n",
    "tess.shape(\"turtle\")"
   ]
  },
  {
   "cell_type": "markdown",
   "metadata": {},
   "source": [
    "## Change the color of the turtle\n",
    "\n",
    "The color of the turtle (icon) is also the color of the pen. \n",
    "When you call `color(col)`, it also changes the pen color."
   ]
  },
  {
   "cell_type": "code",
   "execution_count": null,
   "metadata": {},
   "outputs": [],
   "source": [
    "tess.color(\"red\")\n"
   ]
  },
  {
   "cell_type": "markdown",
   "metadata": {},
   "source": [
    "## The size of the icon and the pen\n",
    "\n",
    "If you would like to change the size of drawing line, you can call out `pensize(size)` function. In this way, the size of the icon will also be changed. "
   ]
  },
  {
   "cell_type": "code",
   "execution_count": null,
   "metadata": {},
   "outputs": [],
   "source": [
    "tess = turtle.Turtle()\n",
    "tess.pensize(3)\n",
    "tess.forward(100)\n",
    "turtle.reset()"
   ]
  },
  {
   "cell_type": "code",
   "execution_count": null,
   "metadata": {},
   "outputs": [],
   "source": []
  },
  {
   "cell_type": "code",
   "execution_count": null,
   "metadata": {},
   "outputs": [],
   "source": []
  }
 ],
 "metadata": {
  "kernelspec": {
   "display_name": "Python 3",
   "language": "python",
   "name": "python3"
  },
  "language_info": {
   "codemirror_mode": {
    "name": "ipython",
    "version": 3
   },
   "file_extension": ".py",
   "mimetype": "text/x-python",
   "name": "python",
   "nbconvert_exporter": "python",
   "pygments_lexer": "ipython3",
   "version": "3.7.0"
  }
 },
 "nbformat": 4,
 "nbformat_minor": 4
}
