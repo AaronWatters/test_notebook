{
 "cells": [
  {
   "cell_type": "markdown",
   "metadata": {},
   "source": [
    "| Test | Notes | Chart|Others | \n",
    "|-----|-----|----|----|\n",
    "|Pearson's Correlation| Association between two continuous variables | scatter plot| |\n",
    "|Kendall's Tau Rank Correlation| Association between two ordinal/continuous variables (Concordant/Discordant)|maybe scatter plot but need to be carefully with ordinal data|<img src='kendall.png'/>$^1$|\n",
    "|Spearman's Rank Correlation|Association between two ordinal/continuous variables(highly skewed or sizable outliers)|maybe scatter plot but need to be carefully with ordinal data| |\n",
    "|Point-biserial Correlation|special case of Pearson's corr;<br>link between a binary variable and a continuous (ratio scale or interval scale)variable|scatter plot| |\n",
    "|Student't t Test|test for the difference between two sample means (iid)| histogram;<br>box plot| |\n",
    "|Welch's t Test|designed for the cases of unequal variance or unequal sample size|histogram;<br>box plot||\n",
    "|Mann-Whitney U Test| two independent groups;<br>ordinal response;<br>test for whether two samples are from the same distribution|histogram||\n",
    "|Wilcoxon signed-rank Test|test for whether two dependent samples were selected from the same distribution|histogram||\n",
    "|Chi-square Test| test for difference between the expected frequencies and the observed frequencies| ||\n",
    "|Fisher's Exact Test| test for the independence of two nominal variables;whether the proportions of one variables are different depending on the value of the other variable | contingency table;<br> pie chart or bar chart but not necessary||\n",
    "|F Test|test for variances |histogram||\n",
    "|Levene's Test| test for variances for two or more groups| standard deviation plot||\n",
    "|One-way Anova|test for the differences between the means of two or more indenpendent groups|box plot;<br> mean plot||\n",
    "|Kruskal-Wallis Test|One nominal variable and one ranked variable;<br> test whether the mean ranks are the same in all the groups<br>(no normality assumption)||\n",
    "|Friedman's Test| Block experiments (test for different treatments etc.)|| \n",
    "\n",
    "<br>\n",
    "\n",
    "- Test for normality   \n",
    "\n",
    "|test|notes|chart|\n",
    "|-|-|-|\n",
    "|Shapiro-Wilk test|none |q-q plot|\n",
    "|Kolmogorov-Smirnov Test| compare data with a known distribution| histogram or box plot|"
   ]
  },
  {
   "cell_type": "markdown",
   "metadata": {},
   "source": [
    "Reference:  \n",
    "- 1. http://citeseerx.ist.psu.edu/viewdoc/download?doi=10.1.1.490.2959&rep=rep1&type=pdf"
   ]
  }
 ],
 "metadata": {
  "kernelspec": {
   "display_name": "Python 3",
   "language": "python",
   "name": "python3"
  },
  "language_info": {
   "codemirror_mode": {
    "name": "ipython",
    "version": 3
   },
   "file_extension": ".py",
   "mimetype": "text/x-python",
   "name": "python",
   "nbconvert_exporter": "python",
   "pygments_lexer": "ipython3",
   "version": "3.7.0"
  }
 },
 "nbformat": 4,
 "nbformat_minor": 4
}
