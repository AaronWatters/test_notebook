{
 "cells": [
  {
   "cell_type": "markdown",
   "metadata": {},
   "source": [
    "## Problem \n",
    "\n",
    "1. the tfjs algorithm does not work for the matrix with the shape of more than $3\\times3$\n",
    "    (I was trying to debug but the logic is correct, and I was unable to fix it)\n",
    "2. the inversed matrix will be printed multiple times both for print out to console and append to info list. \n",
    "3. for $3\\times 3$ matrix, the running time of using numpy is faster."
   ]
  },
  {
   "cell_type": "code",
   "execution_count": 1,
   "metadata": {},
   "outputs": [],
   "source": [
    "import jp_proxy_widget"
   ]
  },
  {
   "cell_type": "code",
   "execution_count": 2,
   "metadata": {},
   "outputs": [],
   "source": [
    "w = jp_proxy_widget.JSProxyWidget()\n",
    "\n",
    "js_file = \"https://cdn.jsdelivr.net/npm/@tensorflow/tfjs@2.0.0/dist/tf.min.js\"\n",
    "w.load_js_files([js_file])"
   ]
  },
  {
   "cell_type": "code",
   "execution_count": 19,
   "metadata": {},
   "outputs": [],
   "source": [
    "import numpy as np"
   ]
  },
  {
   "cell_type": "code",
   "execution_count": 108,
   "metadata": {},
   "outputs": [
    {
     "name": "stdout",
     "output_type": "stream",
     "text": [
      "CPU times: user 169 µs, sys: 13 µs, total: 182 µs\n",
      "Wall time: 177 µs\n"
     ]
    },
    {
     "data": {
      "text/plain": [
       "array([[-0.1574305 ,  0.22938025, -0.22065207],\n",
       "       [ 0.01186848, -0.03107971,  0.04479542],\n",
       "       [ 0.01588621,  0.0012007 , -0.00618823]])"
      ]
     },
     "execution_count": 108,
     "metadata": {},
     "output_type": "execute_result"
    }
   ],
   "source": [
    "%%time\n",
    "m1 = np.random.randint(100,size=(3, 3))\n",
    "np.linalg.inv(m1) "
   ]
  },
  {
   "cell_type": "code",
   "execution_count": 109,
   "metadata": {},
   "outputs": [
    {
     "data": {
      "text/plain": [
       "array([[ 3, 25, 74],\n",
       "       [17, 97, 96],\n",
       "       [11, 83, 47]])"
      ]
     },
     "execution_count": 109,
     "metadata": {},
     "output_type": "execute_result"
    }
   ],
   "source": [
    "m1"
   ]
  },
  {
   "cell_type": "code",
   "execution_count": 94,
   "metadata": {},
   "outputs": [
    {
     "data": {
      "text/plain": [
       "-398806.99999999977"
      ]
     },
     "execution_count": 94,
     "metadata": {},
     "output_type": "execute_result"
    }
   ],
   "source": [
    "np.linalg.det(m1) "
   ]
  },
  {
   "cell_type": "code",
   "execution_count": 110,
   "metadata": {},
   "outputs": [],
   "source": [
    "m2 = m1.flatten().tolist()\n",
    "m2_shape = [4,4]"
   ]
  },
  {
   "cell_type": "code",
   "execution_count": 111,
   "metadata": {},
   "outputs": [
    {
     "data": {
      "text/plain": [
       "[3, 25, 74, 17, 97, 96, 11, 83, 47]"
      ]
     },
     "execution_count": 111,
     "metadata": {},
     "output_type": "execute_result"
    }
   ],
   "source": [
    "m2"
   ]
  },
  {
   "cell_type": "code",
   "execution_count": 153,
   "metadata": {},
   "outputs": [],
   "source": [
    "info = []\n",
    "def callback(args):\n",
    "    info.append(args)"
   ]
  },
  {
   "cell_type": "code",
   "execution_count": 159,
   "metadata": {},
   "outputs": [
    {
     "name": "stdout",
     "output_type": "stream",
     "text": [
      "CPU times: user 2.02 ms, sys: 127 µs, total: 2.15 ms\n",
      "Wall time: 2.08 ms\n"
     ]
    },
    {
     "data": {
      "text/plain": [
       "['method', <class 'jp_proxy_widget.proxy_widget.CommandMaker'>::140616804538912, 'test_func', <class 'jp_proxy_widget.proxy_widget.LiteralMaker'>::140616808086608, <class 'jp_proxy_widget.proxy_widget.LiteralMaker'>::140616808085376]"
      ]
     },
     "execution_count": 159,
     "metadata": {},
     "output_type": "execute_result"
    }
   ],
   "source": [
    "%%time\n",
    "w.element.test_func(m2, m2_shape)"
   ]
  },
  {
   "cell_type": "code",
   "execution_count": 160,
   "metadata": {},
   "outputs": [
    {
     "data": {
      "text/plain": [
       "[{},\n",
       " {},\n",
       " {},\n",
       " {},\n",
       " {},\n",
       " {},\n",
       " {},\n",
       " {},\n",
       " {},\n",
       " {},\n",
       " {},\n",
       " {},\n",
       " [[-92.26052856445312, -6.731898784637451, 35.656715393066406],\n",
       "  [18.71006965637207, 1.3821560144424438, -7.238805770874023],\n",
       "  [-2.567164182662964, -0.1940298080444336, 1]],\n",
       " [[-92.26052856445312, -6.731898784637451, 35.656715393066406],\n",
       "  [18.71006965637207, 1.3821560144424438, -7.238805770874023],\n",
       "  [-2.567164182662964, -0.1940298080444336, 1]],\n",
       " [[-92.26052856445312, -6.731898784637451, 35.656715393066406],\n",
       "  [18.71006965637207, 1.3821560144424438, -7.238805770874023],\n",
       "  [-2.567164182662964, -0.1940298080444336, 1]],\n",
       " [[-92.26052856445312, -6.731898784637451, 35.656715393066406],\n",
       "  [18.71006965637207, 1.3821560144424438, -7.238805770874023],\n",
       "  [-2.567164182662964, -0.1940298080444336, 1]],\n",
       " [[-92.26052856445312, -6.731898784637451, 35.656715393066406],\n",
       "  [18.71006965637207, 1.3821560144424438, -7.238805770874023],\n",
       "  [-2.567164182662964, -0.1940298080444336, 1]],\n",
       " [[-92.26052856445312, -6.731898784637451, 35.656715393066406],\n",
       "  [18.71006965637207, 1.3821560144424438, -7.238805770874023],\n",
       "  [-2.567164182662964, -0.1940298080444336, 1]]]"
      ]
     },
     "execution_count": 160,
     "metadata": {},
     "output_type": "execute_result"
    }
   ],
   "source": [
    "info"
   ]
  },
  {
   "cell_type": "code",
   "execution_count": 158,
   "metadata": {},
   "outputs": [],
   "source": [
    "w.js_init(\"\"\"\n",
    "element.empty()\n",
    "element.test_func = function(input_matrix, input_shape){\n",
    "    // calculate the determinant of a matrix m\n",
    "    function det(m) {\n",
    "        return tf.tidy(() => {\n",
    "            const [r, _] = m.shape\n",
    "            if (r === 2) {\n",
    "                const t = m.as1D()\n",
    "                const a = t.slice([0], [1]).dataSync()[0]\n",
    "                const b = t.slice([1], [1]).dataSync()[0]\n",
    "                const c = t.slice([2], [1]).dataSync()[0]\n",
    "                const d = t.slice([3], [1]).dataSync()[0]\n",
    "                result = a * d - b * c\n",
    "                return result\n",
    "\n",
    "            } else {\n",
    "                let s = 0;\n",
    "                rows = [...Array(r).keys()]\n",
    "                for (let i = 0; i < r; i++) {\n",
    "                    sub_m = m.gather(tf.tensor1d(rows.filter(e => e !== i), 'int32'))\n",
    "                    sli = sub_m.slice([0, 1], [r - 1, r - 1])\n",
    "                    s += Math.pow(-1, i) * det(sli)\n",
    "                }\n",
    "                return s\n",
    "            }\n",
    "        })\n",
    "    }\n",
    "\n",
    "    // the inverse of the matrix : jordan-gauss method\n",
    "    function invertM(m) {\n",
    "        return tf.tidy(() => {\n",
    "            if (det(m) === 0) {\n",
    "                return\n",
    "            }\n",
    "            const [r, _] = m.shape\n",
    "            let inv = m.concat(tf.eye(r), 1)\n",
    "            rows = [...Array(r).keys()]\n",
    "            for (let i = 0; i < r; i++) {\n",
    "                inv = tf.tidy(() => {\n",
    "                    for (let j = i + 1; j < r; j++) {\n",
    "                        const elt = inv.slice([j, i], [1, 1]).as1D().asScalar()\n",
    "                        const pivot = inv.slice([i, i], [1, 1]).as1D().asScalar()\n",
    "                        let newrow\n",
    "                        if (elt.dataSync()[0] !== 0) {\n",
    "                            newrow = inv.gather(tf.tensor1d([i], 'int32')).sub(inv.gather(tf.tensor1d([j], 'int32')).div(elt).mul(pivot)).as1D()\n",
    "                            const sli = inv.gather(rows.filter(e => e !== j))\n",
    "                            const arr = []\n",
    "                            if (j === 0) {\n",
    "                                arr.push(newrow)\n",
    "                            }\n",
    "                            sli.unstack().forEach((t, ind) => {\n",
    "                                if (ind !== j) {\n",
    "                                    arr.push(t)\n",
    "                                } else {\n",
    "                                    arr.push(newrow)\n",
    "                                    arr.push(t)\n",
    "                                }\n",
    "                            })\n",
    "                            if (j === r - 1) {\n",
    "                                arr.push(newrow)\n",
    "                            }\n",
    "                            inv = tf.stack(arr)\n",
    "                        }\n",
    "                    }\n",
    "                    return inv\n",
    "                })\n",
    "            }\n",
    "            const trian = tf.unstack(inv)\n",
    "            len = trian.length\n",
    "            trian[len - 1] = trian[len - 1].div(trian[len - 1].slice(trian[len - 1].shape[0] - 1, 1).asScalar())\n",
    "            for (let i = r - 2; i > -1; i--) {\n",
    "                for (j = r - 1; j > i; j--) {\n",
    "                    trian[i] = trian[i].sub(trian[j].mul(trian[i].slice(j, 1).asScalar()))\n",
    "                }\n",
    "                trian[i] = trian[i].div(trian[i].slice(i, 1).asScalar())\n",
    "            }\n",
    "            return tf.split(tf.stack(trian), 2, 1)[1]\n",
    "        })\n",
    "    }\n",
    "\n",
    "    const a = tf.tensor2d([3, 25, 74, 17, 97, 96, 11, 83, 47], [3,3])\n",
    "    a.print()\n",
    "    const i = invertM(a)\n",
    "    i.print()\n",
    "    callback(i.arraySync())\n",
    "}\n",
    "\"\"\",callback = callback)"
   ]
  },
  {
   "cell_type": "code",
   "execution_count": 143,
   "metadata": {},
   "outputs": [
    {
     "data": {
      "application/vnd.jupyter.widget-view+json": {
       "model_id": "aaa809df7f5842c6be4770d8d3ba6ca6",
       "version_major": 2,
       "version_minor": 0
      },
      "text/plain": [
       "VBox(children=(JSProxyWidget(error_msg=\"TypeError('callback() takes 0 positional arguments but 1 was given')\",…"
      ]
     },
     "metadata": {},
     "output_type": "display_data"
    }
   ],
   "source": [
    "w.debugging_display()"
   ]
  },
  {
   "cell_type": "code",
   "execution_count": null,
   "metadata": {},
   "outputs": [],
   "source": []
  }
 ],
 "metadata": {
  "kernelspec": {
   "display_name": "Python 3",
   "language": "python",
   "name": "python3"
  },
  "language_info": {
   "codemirror_mode": {
    "name": "ipython",
    "version": 3
   },
   "file_extension": ".py",
   "mimetype": "text/x-python",
   "name": "python",
   "nbconvert_exporter": "python",
   "pygments_lexer": "ipython3",
   "version": "3.7.0"
  }
 },
 "nbformat": 4,
 "nbformat_minor": 4
}
