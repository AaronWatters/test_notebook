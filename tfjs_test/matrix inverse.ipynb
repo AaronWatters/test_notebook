{
 "cells": [
  {
   "cell_type": "markdown",
   "metadata": {},
   "source": [
    "## Problem \n",
    "\n",
    "1. the tfjs algorithm does not work for the matrix with the shape of more than $3\\times3$\n",
    "    (I was trying to debug but the logic is correct, and I was unable to fix it)\n",
    "2. the inversed matrix will be printed multiple times both for print out to console and append to info list. \n",
    "3. for $3\\times 3$ matrix, the running time of using numpy is faster.\n",
    "\n",
    "preference: https://stackoverflow.com/questions/51805389/how-do-i-invert-a-matrix-in-tensorflow-js"
   ]
  },
  {
   "cell_type": "code",
   "execution_count": 7,
   "metadata": {},
   "outputs": [],
   "source": [
    "import jp_proxy_widget"
   ]
  },
  {
   "cell_type": "code",
   "execution_count": 8,
   "metadata": {},
   "outputs": [],
   "source": [
    "w = jp_proxy_widget.JSProxyWidget()\n",
    "\n",
    "js_file = \"https://cdn.jsdelivr.net/npm/@tensorflow/tfjs@2.0.0/dist/tf.min.js\"\n",
    "w.load_js_files([js_file])"
   ]
  },
  {
   "cell_type": "code",
   "execution_count": 2,
   "metadata": {},
   "outputs": [],
   "source": [
    "import numpy as np"
   ]
  },
  {
   "cell_type": "code",
   "execution_count": 4,
   "metadata": {},
   "outputs": [],
   "source": [
    "m1 = np.array([1, 3, 3, 1, 4, 3, 1, 3, 4]).reshape(3,3)"
   ]
  },
  {
   "cell_type": "code",
   "execution_count": 5,
   "metadata": {},
   "outputs": [
    {
     "data": {
      "text/plain": [
       "array([[1, 3, 3],\n",
       "       [1, 4, 3],\n",
       "       [1, 3, 4]])"
      ]
     },
     "execution_count": 5,
     "metadata": {},
     "output_type": "execute_result"
    }
   ],
   "source": [
    "m1"
   ]
  },
  {
   "cell_type": "code",
   "execution_count": 36,
   "metadata": {},
   "outputs": [
    {
     "name": "stdout",
     "output_type": "stream",
     "text": [
      "CPU times: user 155 µs, sys: 11 µs, total: 166 µs\n",
      "Wall time: 162 µs\n"
     ]
    },
    {
     "data": {
      "text/plain": [
       "array([[ 0.01894571, -0.00842291, -0.00095301],\n",
       "       [ 0.00087126, -0.00199011,  0.01142208],\n",
       "       [-0.00941563,  0.01614508, -0.00815663]])"
      ]
     },
     "execution_count": 36,
     "metadata": {},
     "output_type": "execute_result"
    }
   ],
   "source": [
    "%%time\n",
    "m1 = np.random.randint(100,size=(3, 3))\n",
    "np.linalg.inv(m1) "
   ]
  },
  {
   "cell_type": "code",
   "execution_count": 37,
   "metadata": {},
   "outputs": [
    {
     "data": {
      "text/plain": [
       "array([[72, 36, 42],\n",
       "       [43, 70, 93],\n",
       "       [ 2, 97, 13]])"
      ]
     },
     "execution_count": 37,
     "metadata": {},
     "output_type": "execute_result"
    }
   ],
   "source": [
    "m1"
   ]
  },
  {
   "cell_type": "code",
   "execution_count": 94,
   "metadata": {},
   "outputs": [
    {
     "data": {
      "text/plain": [
       "-398806.99999999977"
      ]
     },
     "execution_count": 94,
     "metadata": {},
     "output_type": "execute_result"
    }
   ],
   "source": [
    "np.linalg.det(m1) "
   ]
  },
  {
   "cell_type": "code",
   "execution_count": 38,
   "metadata": {},
   "outputs": [],
   "source": [
    "m2 = m1.flatten().tolist()\n",
    "m2_shape = [3,3]"
   ]
  },
  {
   "cell_type": "code",
   "execution_count": 39,
   "metadata": {},
   "outputs": [
    {
     "data": {
      "text/plain": [
       "[72, 36, 42, 43, 70, 93, 2, 97, 13]"
      ]
     },
     "execution_count": 39,
     "metadata": {},
     "output_type": "execute_result"
    }
   ],
   "source": [
    "m2"
   ]
  },
  {
   "cell_type": "code",
   "execution_count": 40,
   "metadata": {},
   "outputs": [],
   "source": [
    "info = []\n",
    "def callback(args):\n",
    "    info.append(args)"
   ]
  },
  {
   "cell_type": "code",
   "execution_count": 41,
   "metadata": {},
   "outputs": [
    {
     "name": "stdout",
     "output_type": "stream",
     "text": [
      "CPU times: user 1.89 ms, sys: 122 µs, total: 2.01 ms\n",
      "Wall time: 1.97 ms\n"
     ]
    },
    {
     "data": {
      "text/plain": [
       "['method', <class 'jp_proxy_widget.proxy_widget.CommandMaker'>::140539177653808, 'test_func', <class 'jp_proxy_widget.proxy_widget.LiteralMaker'>::140539189162616, <class 'jp_proxy_widget.proxy_widget.LiteralMaker'>::140539189162672]"
      ]
     },
     "execution_count": 41,
     "metadata": {},
     "output_type": "execute_result"
    }
   ],
   "source": [
    "%%time\n",
    "w.element.test_func(m2, m2_shape)"
   ]
  },
  {
   "cell_type": "code",
   "execution_count": 42,
   "metadata": {},
   "outputs": [
    {
     "data": {
      "text/plain": [
       "array([[ 0.15491877, -0.24157746,  0.11683856],\n",
       "       [-1.62880468,  2.79243326, -1.40034378],\n",
       "       [ 1.15435278, -1.97938144,  1.        ]])"
      ]
     },
     "execution_count": 42,
     "metadata": {},
     "output_type": "execute_result"
    }
   ],
   "source": [
    "np.array(info[0])"
   ]
  },
  {
   "cell_type": "code",
   "execution_count": 43,
   "metadata": {},
   "outputs": [
    {
     "data": {
      "text/plain": [
       "array([[ 9.99998078e-01, -6.12437725e-06, -1.44412141e+01],\n",
       "       [ 5.48362732e-06,  1.00001347e+00,  1.73082028e+02],\n",
       "       [-1.54972076e-06, -7.15255737e-07, -1.22599657e+02]])"
      ]
     },
     "execution_count": 43,
     "metadata": {},
     "output_type": "execute_result"
    }
   ],
   "source": [
    "np.dot(np.array(info[0]),m1)"
   ]
  },
  {
   "cell_type": "code",
   "execution_count": 30,
   "metadata": {},
   "outputs": [],
   "source": [
    "w.js_init(\"\"\"\n",
    "element.empty()\n",
    "element.test_func = function(input_matrix, input_shape){\n",
    "    // calculate the determinant of a matrix m\n",
    "    function det(m) {\n",
    "        return tf.tidy(() => {\n",
    "            const [r, _] = m.shape\n",
    "            if (r === 2) {\n",
    "                const t = m.as1D()\n",
    "                const a = t.slice([0], [1]).dataSync()[0]\n",
    "                const b = t.slice([1], [1]).dataSync()[0]\n",
    "                const c = t.slice([2], [1]).dataSync()[0]\n",
    "                const d = t.slice([3], [1]).dataSync()[0]\n",
    "                result = a * d - b * c\n",
    "                return result\n",
    "\n",
    "            } else {\n",
    "                let s = 0;\n",
    "                //rows = [...Array(r).keys()]\n",
    "                for (let i = 0; i < r; i++) {\n",
    "                    console.log(rows,rows.filter(e => e !== i))\n",
    "                    sub_m = m.gather(tf.tensor1d([...Array(r).keys()].filter(e => e !== i), 'int32'))\n",
    "                    sli = sub_m.slice([0, 1], [r - 1, r - 1])\n",
    "                    s += Math.pow(-1, i) * det(sli)\n",
    "                }\n",
    "                return s\n",
    "            }\n",
    "        })\n",
    "    }\n",
    "\n",
    "    // the inverse of the matrix : jordan-gauss method\n",
    "    function invertM(m) {\n",
    "        return tf.tidy(() => {\n",
    "            //if (det(m) === 0) {\n",
    "            //    return\n",
    "            //}\n",
    "            const [r, _] = m.shape\n",
    "            let inv = m.concat(tf.eye(r), 1)\n",
    "            rows = [...Array(r).keys()]\n",
    "            for (let i = 0; i < r; i++) {\n",
    "                inv = tf.tidy(() => {\n",
    "                    for (let j = i + 1; j < r; j++) {\n",
    "                        const elt = inv.slice([j, i], [1, 1]).as1D().asScalar()\n",
    "                        const pivot = inv.slice([i, i], [1, 1]).as1D().asScalar()\n",
    "                        let newrow\n",
    "                        if (elt.dataSync()[0] !== 0) {\n",
    "                            newrow = inv.gather(tf.tensor1d([i], 'int32')).sub(inv.gather(tf.tensor1d([j], 'int32')).div(elt).mul(pivot)).as1D()\n",
    "                            const sli = inv.gather(rows.filter(e => e !== j))\n",
    "                            const arr = []\n",
    "                            if (j === 0) {\n",
    "                                arr.push(newrow)\n",
    "                            }\n",
    "                            sli.unstack().forEach((t, ind) => {\n",
    "                                if (ind !== j) {\n",
    "                                    arr.push(t)\n",
    "                                } else {\n",
    "                                    arr.push(newrow)\n",
    "                                    arr.push(t)\n",
    "                                }\n",
    "                            })\n",
    "                            if (j === r - 1) {\n",
    "                                arr.push(newrow)\n",
    "                            }\n",
    "                            inv = tf.stack(arr)\n",
    "                        }\n",
    "                    }\n",
    "                    return inv\n",
    "                })\n",
    "            }\n",
    "            const trian = tf.unstack(inv)\n",
    "            len = trian.length\n",
    "            trian[len - 1] = trian[len - 1].div(trian[len - 1].slice(trian[len - 1].shape[0] - 1, 1).asScalar())\n",
    "            for (let i = r - 2; i > -1; i--) {\n",
    "                for (j = r - 1; j > i; j--) {\n",
    "                    trian[i] = trian[i].sub(trian[j].mul(trian[i].slice(j, 1).asScalar()))\n",
    "                }\n",
    "                trian[i] = trian[i].div(trian[i].slice(i, 1).asScalar())\n",
    "            }\n",
    "            return tf.split(tf.stack(trian), 2, 1)[1]\n",
    "        })\n",
    "    }\n",
    "\n",
    "    const a = tf.tensor2d(input_matrix, input_shape)\n",
    "    a.print()\n",
    "    const i = invertM(a)\n",
    "    i.print()\n",
    "    callback(i.arraySync())\n",
    "}\n",
    "\"\"\",callback = callback)"
   ]
  },
  {
   "cell_type": "code",
   "execution_count": 14,
   "metadata": {},
   "outputs": [
    {
     "data": {
      "application/vnd.jupyter.widget-view+json": {
       "model_id": "1fb74a05d61e466a959b0782d629bf1b",
       "version_major": 2,
       "version_minor": 0
      },
      "text/plain": [
       "VBox(children=(JSProxyWidget(status='deferring flush until render'), Text(value='deferring flush until render'…"
      ]
     },
     "metadata": {},
     "output_type": "display_data"
    },
    {
     "name": "stdout",
     "output_type": "stream",
     "text": [
      "new error message: ReferenceError: m2 is not defined\n"
     ]
    }
   ],
   "source": [
    "w.debugging_display()"
   ]
  },
  {
   "cell_type": "code",
   "execution_count": null,
   "metadata": {},
   "outputs": [],
   "source": []
  }
 ],
 "metadata": {
  "kernelspec": {
   "display_name": "Python 3",
   "language": "python",
   "name": "python3"
  },
  "language_info": {
   "codemirror_mode": {
    "name": "ipython",
    "version": 3
   },
   "file_extension": ".py",
   "mimetype": "text/x-python",
   "name": "python",
   "nbconvert_exporter": "python",
   "pygments_lexer": "ipython3",
   "version": "3.7.0"
  }
 },
 "nbformat": 4,
 "nbformat_minor": 4
}
