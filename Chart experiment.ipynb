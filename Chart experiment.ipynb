{
 "cells": [
  {
   "cell_type": "code",
   "execution_count": 1,
   "metadata": {},
   "outputs": [
    {
     "data": {
      "application/vnd.jupyter.widget-view+json": {
       "model_id": "f46cf746d80c43aca68ce104d36e6681",
       "version_major": 2,
       "version_minor": 0
      },
      "text/plain": [
       "JSProxyWidget(status='Not yet rendered')"
      ]
     },
     "metadata": {},
     "output_type": "display_data"
    }
   ],
   "source": [
    "import jp_proxy_widget\n",
    "from IPython.display import display\n",
    "js = \"js/Chart.js\"\n",
    "loader_widget = jp_proxy_widget.JSProxyWidget()\n",
    "\n",
    "# Load the library into the global javascript context and report success\n",
    "loader_widget.load_js_files([js])\n",
    "loader_widget.element.html(\"<h3>Chart.js has loaded</h3>\")\n",
    "display(loader_widget)"
   ]
  },
  {
   "cell_type": "code",
   "execution_count": 2,
   "metadata": {},
   "outputs": [
    {
     "data": {
      "application/vnd.jupyter.widget-view+json": {
       "model_id": "f7e350a62efd4bd4af7ace5382847a38",
       "version_major": 2,
       "version_minor": 0
      },
      "text/plain": [
       "JSProxyWidget(status='Not yet rendered')"
      ]
     },
     "metadata": {},
     "output_type": "display_data"
    }
   ],
   "source": [
    "# Javascript version\n",
    "# from: view-source:https://www.chartjs.org/samples/latest/charts/doughnut.html\n",
    "\n",
    "js_widget = jp_proxy_widget.JSProxyWidget()\n",
    "\n",
    "js_widget.js_init(\"\"\"\n",
    "\n",
    "window.chartColors = {\n",
    "\tred: 'rgb(255, 99, 132)',\n",
    "\torange: 'rgb(255, 159, 64)',\n",
    "\tyellow: 'rgb(255, 205, 86)',\n",
    "\tgreen: 'rgb(75, 192, 192)',\n",
    "\tblue: 'rgb(54, 162, 235)',\n",
    "\tpurple: 'rgb(153, 102, 255)',\n",
    "\tgrey: 'rgb(201, 203, 207)'\n",
    "};\n",
    "\n",
    "var randomScalingFactor = function() {\n",
    "    return Math.round(Math.random() * 100);\n",
    "};\n",
    "\n",
    "\n",
    "var config = {\n",
    "    type: 'doughnut',\n",
    "    data: {\n",
    "        datasets: [{\n",
    "            data: [\n",
    "                randomScalingFactor(),\n",
    "                randomScalingFactor(),\n",
    "                randomScalingFactor(),\n",
    "                randomScalingFactor(),\n",
    "                randomScalingFactor(),\n",
    "            ],\n",
    "            backgroundColor: [\n",
    "                window.chartColors.red,\n",
    "                window.chartColors.orange,\n",
    "                window.chartColors.yellow,\n",
    "                window.chartColors.green,\n",
    "                window.chartColors.blue,\n",
    "            ],\n",
    "            label: 'Dataset 1'\n",
    "        }],\n",
    "        labels: [\n",
    "            'Red',\n",
    "            'Orange',\n",
    "            'Yellow',\n",
    "            'Green',\n",
    "            'Blue'\n",
    "        ]\n",
    "    },\n",
    "    options: {\n",
    "        responsive: true,\n",
    "        legend: {\n",
    "            position: 'top',\n",
    "        },\n",
    "        title: {\n",
    "            display: true,\n",
    "            text: 'Chart.js Doughnut Chart'\n",
    "        },\n",
    "        animation: {\n",
    "            animateScale: true,\n",
    "            animateRotate: true\n",
    "        }\n",
    "    }\n",
    "};\n",
    "\n",
    "element.empty();\n",
    "element.width(700);\n",
    "\n",
    "var canvas = $(\"<canvas></canvas>\").appendTo(element);\n",
    "var ctx = canvas[0].getContext('2d');\n",
    "element.myDoughnut = new Chart(ctx, config);\n",
    "\"\"\")\n",
    "\n",
    "display(js_widget)"
   ]
  },
  {
   "cell_type": "code",
   "execution_count": 3,
   "metadata": {},
   "outputs": [],
   "source": [
    "# Pythonized version\n",
    "\n",
    "chartColors = dict(\n",
    "\tred= 'rgb(255, 99, 132)',\n",
    "\torange= 'rgb(255, 159, 64)',\n",
    "\tyellow= 'rgb(255, 205, 86)',\n",
    "\tgreen= 'rgb(75, 192, 192)',\n",
    "\tblue= 'rgb(54, 162, 235)',\n",
    "\tpurple= 'rgb(153, 102, 255)',\n",
    "\tgrey= 'rgb(201, 203, 207)'\n",
    ")\n",
    "\n",
    "import random\n",
    "\n",
    "def randomScalingFactor():\n",
    "    return round(random.random() * 200)"
   ]
  },
  {
   "cell_type": "code",
   "execution_count": 4,
   "metadata": {},
   "outputs": [
    {
     "data": {
      "text/plain": [
       "129"
      ]
     },
     "execution_count": 4,
     "metadata": {},
     "output_type": "execute_result"
    }
   ],
   "source": [
    "randomScalingFactor()"
   ]
  },
  {
   "cell_type": "code",
   "execution_count": 5,
   "metadata": {},
   "outputs": [
    {
     "data": {
      "text/plain": [
       "{'type': 'doughnut',\n",
       " 'data': {'datasets': [{'label': 'My Dataset',\n",
       "    'data': [4, 63, 148, 41, 16, 190],\n",
       "    'backgroundColor': ['rgb(255, 99, 132)',\n",
       "     'rgb(255, 159, 64)',\n",
       "     'rgb(255, 205, 86)',\n",
       "     'rgb(75, 192, 192)',\n",
       "     'rgb(54, 162, 235)',\n",
       "     'rgb(153, 102, 255)']}],\n",
       "  'labels': ['red', 'orange', 'yellow', 'green', 'blue', 'purple']},\n",
       " 'options': {'responsive': True,\n",
       "  'legend': {'position': 'top'},\n",
       "  'title': {'display': True, 'text': 'Dunkin Donut'},\n",
       "  'animation': {'animateScale': True, 'animateRotate': True}}}"
      ]
     },
     "execution_count": 5,
     "metadata": {},
     "output_type": "execute_result"
    }
   ],
   "source": [
    "ndata = 6\n",
    "\n",
    "data = [randomScalingFactor() for i in range(ndata)]\n",
    "names_and_colors = list(chartColors.items())[:ndata]\n",
    "colors = [nc[1] for nc in names_and_colors]\n",
    "names = [nc[0] for nc in names_and_colors]\n",
    "true=True # convenience\n",
    "\n",
    "config = dict(\n",
    "    type=\"doughnut\",\n",
    "    data= dict(\n",
    "        datasets = [\n",
    "            dict(\n",
    "                label=\"My Dataset\",\n",
    "                data=data,\n",
    "                backgroundColor=colors,\n",
    "            )\n",
    "        ],\n",
    "        labels=names\n",
    "    ),\n",
    "    options= dict(\n",
    "        responsive=true,\n",
    "        legend=dict(position=\"top\"),\n",
    "        title=dict(display=true, text=\"Dunkin Donut\"),\n",
    "        animation=dict(animateScale=true, animateRotate=true)\n",
    "    ),\n",
    ")\n",
    "\n",
    "config"
   ]
  },
  {
   "cell_type": "code",
   "execution_count": 6,
   "metadata": {},
   "outputs": [
    {
     "data": {
      "application/vnd.jupyter.widget-view+json": {
       "model_id": "57a799d6de5c41019208ca210838cf7c",
       "version_major": 2,
       "version_minor": 0
      },
      "text/plain": [
       "JSProxyWidget(status='Not yet rendered')"
      ]
     },
     "metadata": {},
     "output_type": "display_data"
    }
   ],
   "source": [
    "py_widget = jp_proxy_widget.JSProxyWidget()\n",
    "py_widget.js_init(\"\"\"\n",
    "\n",
    "element.empty();\n",
    "element.width(700);\n",
    "\n",
    "var canvas = $(\"<canvas></canvas>\").appendTo(element);\n",
    "var ctx = canvas[0].getContext('2d');\n",
    "element.myDoughnut = new Chart(ctx, config);\n",
    "\n",
    "\"\"\", config=config)\n",
    "\n",
    "display(py_widget)"
   ]
  },
  {
   "cell_type": "code",
   "execution_count": 7,
   "metadata": {},
   "outputs": [],
   "source": [
    "# Possible Python object encapsulation\n",
    "\n",
    "class DoughnutChart:\n",
    "    \n",
    "    default_options = dict(\n",
    "        responsive=true,\n",
    "        legend=dict(position=\"top\"),\n",
    "        title=dict(display=true, text=\"Doughnut Chart\"),\n",
    "        animation=dict(animateScale=true, animateRotate=true)\n",
    "    )\n",
    "    default_colors = list(chartColors.values())\n",
    "    label = \"Dataset\"\n",
    "    \n",
    "    def __init__(self, title=None):\n",
    "        self.options = self.default_options.copy()\n",
    "        if title is not None:\n",
    "            self.options[\"title\"][\"text\"] = title\n",
    "        self.labels = []\n",
    "        self.data = []\n",
    "        self.colors = []\n",
    "        self._widget = None\n",
    "        \n",
    "    def add_item(self, label, datum, color=None):\n",
    "        if color is None:\n",
    "            # choose some color\n",
    "            color = self.default_colors[len(self.colors) % len(self.default_colors)]\n",
    "        #print (\"adding\", label, datum, color)\n",
    "        self.labels.append(str(label))\n",
    "        self.data.append(datum)\n",
    "        self.colors.append(color)\n",
    "        \n",
    "    def widget(self):\n",
    "        if self._widget:\n",
    "            return self._widget\n",
    "        w = jp_proxy_widget.JSProxyWidget()\n",
    "        \n",
    "        true=True # convenience\n",
    "\n",
    "        config = dict(\n",
    "            type=\"doughnut\",\n",
    "            data= dict(\n",
    "                datasets = [\n",
    "                    dict(\n",
    "                        label=self.label,\n",
    "                        data=self.data,\n",
    "                        backgroundColor=self.colors,\n",
    "                    )\n",
    "                ],\n",
    "                labels=self.labels,\n",
    "            ),\n",
    "            options= self.options\n",
    "        )\n",
    "        w.js_init(\"\"\"\n",
    "\n",
    "            element.empty();\n",
    "            element.width(700);\n",
    "\n",
    "            var canvas = $(\"<canvas></canvas>\").appendTo(element);\n",
    "            var ctx = canvas[0].getContext('2d');\n",
    "            element.myDoughnut = new Chart(ctx, config);\n",
    "\n",
    "        \"\"\", config=config)\n",
    "        \n",
    "        self._widget = w\n",
    "        return w"
   ]
  },
  {
   "cell_type": "code",
   "execution_count": 8,
   "metadata": {},
   "outputs": [
    {
     "data": {
      "application/vnd.jupyter.widget-view+json": {
       "model_id": "5776a69119914e4a9691cf327a36ae60",
       "version_major": 2,
       "version_minor": 0
      },
      "text/plain": [
       "JSProxyWidget(status='Not yet rendered')"
      ]
     },
     "metadata": {},
     "output_type": "display_data"
    }
   ],
   "source": [
    "D = DoughnutChart()\n",
    "for name in \"George John Paul Ringo Mick Keith\".split():\n",
    "    D.add_item(name, randomScalingFactor())\n",
    "w = D.widget()\n",
    "display(w)"
   ]
  },
  {
   "cell_type": "code",
   "execution_count": null,
   "metadata": {},
   "outputs": [],
   "source": []
  }
 ],
 "metadata": {
  "kernelspec": {
   "display_name": "Python 3",
   "language": "python",
   "name": "python3"
  },
  "language_info": {
   "codemirror_mode": {
    "name": "ipython",
    "version": 3
   },
   "file_extension": ".py",
   "mimetype": "text/x-python",
   "name": "python",
   "nbconvert_exporter": "python",
   "pygments_lexer": "ipython3",
   "version": "3.7.0"
  }
 },
 "nbformat": 4,
 "nbformat_minor": 4
}
