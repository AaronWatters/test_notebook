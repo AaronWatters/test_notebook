{
 "cells": [
  {
   "cell_type": "code",
   "execution_count": null,
   "metadata": {},
   "outputs": [],
   "source": [
    "import d_turtle"
   ]
  },
  {
   "cell_type": "markdown",
   "metadata": {},
   "source": [
    "# Example 1: Draw a line"
   ]
  },
  {
   "cell_type": "code",
   "execution_count": null,
   "metadata": {},
   "outputs": [],
   "source": [
    "e1 = d_turtle.Turtle()"
   ]
  },
  {
   "cell_type": "code",
   "execution_count": null,
   "metadata": {},
   "outputs": [],
   "source": [
    "e1.forward(50)\n",
    "d_turtle.reset()"
   ]
  },
  {
   "cell_type": "markdown",
   "metadata": {},
   "source": [
    "# Example 2: Drawing a square"
   ]
  },
  {
   "cell_type": "code",
   "execution_count": null,
   "metadata": {},
   "outputs": [],
   "source": [
    "e2 = d_turtle.Turtle()"
   ]
  },
  {
   "cell_type": "code",
   "execution_count": null,
   "metadata": {},
   "outputs": [],
   "source": [
    "e2.forward(50)\n",
    "e2.right(90)\n",
    "\n",
    "e2.forward(50)\n",
    "e2.right(90)\n",
    "\n",
    "e2.forward(50)\n",
    "e2.right(90)\n",
    "\n",
    "e2.forward(50)\n",
    "e2.right(90)"
   ]
  },
  {
   "cell_type": "code",
   "execution_count": null,
   "metadata": {},
   "outputs": [],
   "source": [
    "d_turtle.reset()"
   ]
  },
  {
   "cell_type": "markdown",
   "metadata": {},
   "source": [
    "# Example 3: Drawing a square (using loops)"
   ]
  },
  {
   "cell_type": "code",
   "execution_count": null,
   "metadata": {},
   "outputs": [],
   "source": [
    "e3 = d_turtle.Turtle()"
   ]
  },
  {
   "cell_type": "code",
   "execution_count": null,
   "metadata": {},
   "outputs": [],
   "source": [
    "for i in range(4):\n",
    "    e3.forward(50)\n",
    "    e3.right(90)\n",
    "d_turtle.reset()"
   ]
  },
  {
   "cell_type": "markdown",
   "metadata": {},
   "source": [
    "# Example 4: Drawing a star"
   ]
  },
  {
   "cell_type": "code",
   "execution_count": null,
   "metadata": {},
   "outputs": [],
   "source": [
    "e4 = d_turtle.Turtle()\n",
    "for i in range(5):\n",
    "    e4.forward(50)\n",
    "    e4.right(144)\n",
    "d_turtle.reset()"
   ]
  },
  {
   "cell_type": "markdown",
   "metadata": {},
   "source": [
    "# Example 5: Spiraling star"
   ]
  },
  {
   "cell_type": "code",
   "execution_count": null,
   "metadata": {},
   "outputs": [],
   "source": [
    "e5 = d_turtle.Turtle()\n",
    "for i in range(20):\n",
    "    e5.forward(i*10)\n",
    "    e5.right(144)\n",
    "d_turtle.reset()"
   ]
  },
  {
   "cell_type": "markdown",
   "metadata": {},
   "source": [
    "# Example 6: Changing line color"
   ]
  },
  {
   "cell_type": "code",
   "execution_count": null,
   "metadata": {},
   "outputs": [],
   "source": [
    "e6 = d_turtle.Turtle()\n",
    "e6.color('blue')\n",
    "for i in range(40):\n",
    "    e6.forward(50)\n",
    "    e6.left(123)\n",
    "\n",
    "e6.color(\"red\")\n",
    "for i in range(40):\n",
    "    e6.forward(100)\n",
    "    e6.left(123)\n",
    "    \n",
    "d_turtle.reset()"
   ]
  },
  {
   "cell_type": "code",
   "execution_count": null,
   "metadata": {},
   "outputs": [],
   "source": [
    "painter2 = d_turtle.Turtle()\n",
    "painter2.color(\"#32D486\")\n",
    "painter2.forward(30)\n",
    "painter2.color(\"#D6305F\")\n",
    "painter2.forward(30)\n",
    "d_turtle.reset()"
   ]
  },
  {
   "cell_type": "markdown",
   "metadata": {},
   "source": [
    "# Example 7: Variables"
   ]
  },
  {
   "cell_type": "code",
   "execution_count": null,
   "metadata": {},
   "outputs": [],
   "source": [
    "e7 = d_turtle.Turtle()\n",
    "\n",
    "num_sides = 6\n",
    "side_length = 70\n",
    "angle = 360.0 / num_sides \n",
    "\n",
    "for i in range(num_sides):\n",
    "    e7.forward(side_length)\n",
    "    e7.right(angle)\n",
    "\n",
    "d_turtle.reset()"
   ]
  },
  {
   "cell_type": "markdown",
   "metadata": {},
   "source": [
    "# Example 8: Nested loops"
   ]
  },
  {
   "cell_type": "code",
   "execution_count": null,
   "metadata": {},
   "outputs": [],
   "source": [
    "e8 = d_turtle.Turtle()\n",
    "dot_distance = 25\n",
    "width = 5\n",
    "height = 7\n",
    "e8.up()\n",
    "\n",
    "for y in range(height):\n",
    "    for i in range(width):\n",
    "        e8.dot()\n",
    "        e8.forward(dot_distance)\n",
    "    e8.backward(dot_distance * width)\n",
    "    e8.right(90)\n",
    "    e8.forward(dot_distance)\n",
    "    e8.left(90)\n",
    "    \n",
    "d_turtle.reset()"
   ]
  },
  {
   "cell_type": "markdown",
   "metadata": {},
   "source": [
    "# Example 9: Jumping around and changing speed"
   ]
  },
  {
   "cell_type": "code",
   "execution_count": null,
   "metadata": {},
   "outputs": [],
   "source": [
    "e9 = d_turtle.Turtle()\n",
    "\n",
    "e9.speed(0.1)\n",
    "for i in range(180):\n",
    "    e9.forward(100)\n",
    "    e9.right(30)\n",
    "    e9.forward(20)\n",
    "    e9.left(60)\n",
    "    e9.forward(50)\n",
    "    e9.up()\n",
    "    e9.goto(0, 0)\n",
    "    e9.down()\n",
    "    \n",
    "    e9.right(2)\n",
    "    \n",
    "d_turtle.reset()\n",
    "\n",
    "\"\"\"\n",
    "bugs: \n",
    "2. some lines are not supposed to be drawn and some lines are supposed to be drawn.\n",
    "\"\"\""
   ]
  }
 ],
 "metadata": {
  "kernelspec": {
   "display_name": "Python 3",
   "language": "python",
   "name": "python3"
  },
  "language_info": {
   "codemirror_mode": {
    "name": "ipython",
    "version": 3
   },
   "file_extension": ".py",
   "mimetype": "text/x-python",
   "name": "python",
   "nbconvert_exporter": "python",
   "pygments_lexer": "ipython3",
   "version": "3.7.0"
  }
 },
 "nbformat": 4,
 "nbformat_minor": 4
}
