{
 "cells": [
  {
   "cell_type": "code",
   "execution_count": null,
   "metadata": {},
   "outputs": [],
   "source": [
    "from jp_doodle import dual_canvas\n",
    "from IPython.display import display\n",
    "from datetime import datetime"
   ]
  },
  {
   "cell_type": "code",
   "execution_count": null,
   "metadata": {
    "scrolled": false
   },
   "outputs": [],
   "source": [
    "demo = dual_canvas.DualCanvasWidget(width=820, height=820, font='italic 50px Courier')\n",
    "txt1 = demo.text(10,10,\"00:00.000\",color='red', name=True)\n",
    "txt2 = demo.text(10,110,\"00:00.000\",color='blue', name=True)\n",
    "txt3 = demo.text(10,210,\"00:00.000\",color='orange', name=True)\n",
    "demo.rect(0,0,300,100,color='green')\n",
    "demo.rect(0,200,300,100,color='green')\n",
    "demo.fit()\n",
    "demo.debugging_display()"
   ]
  },
  {
   "cell_type": "code",
   "execution_count": null,
   "metadata": {},
   "outputs": [],
   "source": [
    "txts = [txt1,txt2,txt3]\n",
    "start = datetime.now()\n",
    "\n",
    "def switch(s=start):\n",
    "    from datetime import datetime\n",
    "    global txts\n",
    "    [A,B,C] = txts\n",
    "#     print(A.name,B.name,C.name)\n",
    "    elap = datetime.now() - s\n",
    "    sec = elap.seconds \n",
    "    mili = int(elap.microseconds/1000)\n",
    "    minute = int(sec/60)\n",
    "    A.transition(y=110,seconds_duration=0.8,text=str(minute)+':'+str(sec%60)+'.'+str(mili))\n",
    "    B.transition(y=210,seconds_duration=0.8)\n",
    "    C.change(y=10)#,seconds_duration=0.001)\n",
    "    a, b, c = C, A, B\n",
    "#     print(a.name,b.name,c.name)\n",
    "    txts = [a, b, c]"
   ]
  },
  {
   "cell_type": "code",
   "execution_count": null,
   "metadata": {},
   "outputs": [],
   "source": [
    "switch(start)"
   ]
  },
  {
   "cell_type": "code",
   "execution_count": null,
   "metadata": {},
   "outputs": [],
   "source": [
    "demo.js_init(\"\"\"\n",
    "     element.setTimeout = function(callback, ms) {\n",
    "         window.setTimeout(callback, ms);\n",
    "     };\n",
    "\"\"\")\n",
    "\n",
    "def repeat_switch(ms=1000):\n",
    "    switch()\n",
    "    demo.element.setTimeout(repeat_switch, ms)\n",
    "\n",
    "demo.element.setTimeout(repeat_switch, 1000)"
   ]
  },
  {
   "cell_type": "code",
   "execution_count": null,
   "metadata": {},
   "outputs": [],
   "source": [
    "demo.js_debug()"
   ]
  },
  {
   "cell_type": "markdown",
   "metadata": {},
   "source": [
    "_____"
   ]
  },
  {
   "cell_type": "code",
   "execution_count": null,
   "metadata": {},
   "outputs": [],
   "source": [
    "class Timer:\n",
    "    def __init__(self):\n",
    "        from jp_doodle import dual_canvas\n",
    "        from IPython.display import display\n",
    "        \n",
    "        demo = dual_canvas.DualCanvasWidget(width=820, height=820, font='italic 50px Courier')\n",
    "        min_txt1 = demo.text(10,10,\"00\",color='red', name=True)\n",
    "        min_txt2 = demo.text(10,110,\"00\",color='red', name=True)\n",
    "        min_txt3 = demo.text(10,210,\"00\",color='red', name=True)\n",
    "        \n",
    "        demo.text(70,114,\":\",color='black')\n",
    "        sec_txt1 = demo.text(100,10,\"00\",color='blue', name=True)\n",
    "        sec_txt2 = demo.text(100,110,\"00\",color='blue', name=True)\n",
    "        sec_txt3 = demo.text(100,210,\"00\",color='blue', name=True)\n",
    "        \n",
    "        demo.text(160,114,\":\",color='black')\n",
    "        hsec_txt1 = demo.text(190,10,\"00\",color='orange', name=True)\n",
    "        hsec_txt2 = demo.text(190,110,\"00\",color='orange', name=True)\n",
    "        hsec_txt3 = demo.text(190,210,\"00\",color='orange', name=True)\n",
    "        \n",
    "        demo.rect(0,0,300,100,color='green')\n",
    "        demo.rect(0,200,300,100,color='green')\n",
    "        self.min_txts = [min_txt1, min_txt2, min_txt3]\n",
    "        self.sec_txts = [sec_txt1, sec_txt2, sec_txt3]\n",
    "        self.hsec_txts = [hsec_txt1, hsec_txt2, hsec_txt3]\n",
    "        self.start = None\n",
    "        demo.fit()\n",
    "        self.widget = demo\n",
    "    \n",
    "    def start_timing(self):\n",
    "        from time import sleep\n",
    "        from datetime import datetime\n",
    "        import threading\n",
    "        \n",
    "        self.start = datetime.now()\n",
    "        for i in range(10000):\n",
    "            self.timing_hsec()\n",
    "            self.timing_sec()\n",
    "            self.timing_min()\n",
    "#             sleep(0.8)\n",
    "#             t1 = threading.Thread(target=lambda: self.timing_hsec())  \n",
    "#             t2 = threading.Thread(target=lambda: self.timing_sec())  \n",
    "#             t3 = threading.Thread(target=lambda: self.timing_min())\n",
    "#             t1 = threading.Timer(0.1, self.timing_hsec)  \n",
    "#             t2 = threading.Timer(1, self.timing_sec)  \n",
    "#             t3 = threading.Timer(60, self.timing_min)\n",
    "#             t1.start()\n",
    "#             t2.start()\n",
    "#             t3.start()\n",
    "#             T.submit(self.timing_hsec)\n",
    "#             T.submit(self.timing_sec)\n",
    "    \n",
    "    def timing_min(self):\n",
    "        from datetime import datetime\n",
    "        from time import sleep\n",
    "        elap = datetime.now() - self.start\n",
    "        sec = elap.seconds \n",
    "        minute = int(sec/60)\n",
    "        if sec%60==0 & sec>0:\n",
    "            print(sec)\n",
    "            [min_a, min_b, min_c] = self.min_txts\n",
    "            min_b.transition(y=110, seconds_duration=0.1, text='%02d' % minute)\n",
    "            min_a.transition(y=10, seconds_duration=0.001)\n",
    "            min_c.transition(y=210,seconds_duration=0.1)\n",
    "            self.min_txts = [min_c, min_a, min_b]\n",
    "#             sleep(1)\n",
    "        \n",
    "    def timing_sec(self):\n",
    "        from datetime import datetime\n",
    "        from time import sleep\n",
    "        elap = datetime.now() - self.start\n",
    "        sec = elap.seconds \n",
    "        hsec = int(elap.microseconds/10000)\n",
    "        [sec_a, sec_b, sec_c] = self.sec_txts\n",
    "        txt_sec = sec%60\n",
    "        \n",
    "        sec_b.transition(y=110, seconds_duration=0.1, text='%02d' %txt_sec)\n",
    "        sec_a.transition(y=10, seconds_duration=0.001)\n",
    "        sec_c.transition(y=210,seconds_duration=0.1)\n",
    "        self.sec_txts = [sec_c, sec_a, sec_b]\n",
    "#         sleep(1)\n",
    "        \n",
    "        \n",
    "    def timing_hsec(self):\n",
    "        from datetime import datetime\n",
    "        from time import sleep\n",
    "        elap = datetime.now() - self.start \n",
    "        hsec = int(elap.microseconds/10000)\n",
    "        \n",
    "        [hsec_a, hsec_b, hsec_c] = self.hsec_txts\n",
    "        hsec_b.transition(y=110, seconds_duration=0.1, text='%02d' %hsec)\n",
    "        hsec_a.transition(y=10, seconds_duration=0.0001)\n",
    "        hsec_c.transition(y=210,seconds_duration=0.1)\n",
    "        self.hsec_txts = [hsec_c, hsec_a, hsec_b]\n",
    "        sleep(0.5)"
   ]
  },
  {
   "cell_type": "code",
   "execution_count": null,
   "metadata": {},
   "outputs": [],
   "source": [
    "t = Timer()\n",
    "t.widget"
   ]
  },
  {
   "cell_type": "code",
   "execution_count": null,
   "metadata": {},
   "outputs": [],
   "source": [
    "t.start_timing()"
   ]
  },
  {
   "cell_type": "code",
   "execution_count": null,
   "metadata": {},
   "outputs": [],
   "source": []
  }
 ],
 "metadata": {
  "kernelspec": {
   "display_name": "Python 3",
   "language": "python",
   "name": "python3"
  },
  "language_info": {
   "codemirror_mode": {
    "name": "ipython",
    "version": 3
   },
   "file_extension": ".py",
   "mimetype": "text/x-python",
   "name": "python",
   "nbconvert_exporter": "python",
   "pygments_lexer": "ipython3",
   "version": "3.6.8"
  }
 },
 "nbformat": 4,
 "nbformat_minor": 4
}
