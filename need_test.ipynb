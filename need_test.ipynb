{
 "cells": [
  {
   "cell_type": "code",
   "execution_count": 45,
   "metadata": {},
   "outputs": [],
   "source": [
    "import jp_proxy_widget\n",
    "from IPython.display import HTML, display"
   ]
  },
  {
   "cell_type": "code",
   "execution_count": 42,
   "metadata": {},
   "outputs": [],
   "source": [
    "# demo = jp_proxy_widget.JSProxyWidget()\n",
    "# demo.load_js_files([\"https://d3js.org/d3.v5.js\"])\n",
    "# demo.uses_require()"
   ]
  },
  {
   "cell_type": "code",
   "execution_count": 155,
   "metadata": {},
   "outputs": [
    {
     "data": {
      "application/vnd.jupyter.widget-view+json": {
       "model_id": "1d4559a8253343ef9209372e91074ef9",
       "version_major": 2,
       "version_minor": 0
      },
      "text/plain": [
       "VBox(children=(circle_test(status='Not yet rendered'), Text(value='Not yet rendered', description='status:'), …"
      ]
     },
     "metadata": {},
     "output_type": "display_data"
    }
   ],
   "source": [
    "class circle_test(jp_proxy_widget.JSProxyWidget):\n",
    "    \n",
    "    is_ready = False\n",
    "    \n",
    "    def __init__(self, data, *pargs, **kwargs):\n",
    "        super(circle_test, self).__init__(*pargs, **kwargs)\n",
    "        self.data = data\n",
    "#         self.load_js_files([\"https://d3js.org/d3.v5.min.js\"])\n",
    "        self.uses_require(self.make_circle)\n",
    "\n",
    "    def make_circle(self):\n",
    "        self.js_init(\"\"\"\n",
    "            element.requirejs.config({\n",
    "              paths: {\n",
    "                  d3: '//cdnjs.cloudflare.com/ajax/libs/d3/5.16.0/d3.min'\n",
    "              }\n",
    "            });\n",
    "            var min_r = Math.min(...data);\n",
    "            var max_r = Math.max(...data);\n",
    "            var range_r = max_r - min_r;\n",
    "\n",
    "            element.empty();\n",
    "            element.html(\"<div>Make circle</div>\").css(\"background-color\",\"#9ce\")\n",
    "                    .width(\"600px\");\n",
    "            var title = $(\"<div>title</div>\").appendTo(element);\n",
    "            var target = $('<svg width = \"400\" height = \"400\"></svg>').appendTo(element);\n",
    "            element.change_title = function (text) {\n",
    "                title.html(\"<div>\" + text + \"</div>\");\n",
    "            };\n",
    "            console.log(range_r);\n",
    "            //ready();\n",
    "            element.requirejs([\"d3\"], function(d3) {\n",
    "                d3.select(target).append(\"circle\")\n",
    "                    .attr(\"cx\",50)\n",
    "                    .attr(\"cy\",50)\n",
    "                    .attr(\"r\",100);\n",
    "                d3.select(target)\n",
    "                    .selectAll(\"circle\")\n",
    "                    .data(data)\n",
    "                    .enter()\n",
    "                    .append(\"circle\")\n",
    "                    .attr(\"cx\",d=>200-d)\n",
    "                    .attr(\"cy\",d=>200-d)\n",
    "                    .attr(\"r\", d)\n",
    "                    .style(\"fill\",\"pink\");\n",
    "                ready();    \n",
    "                });\n",
    "            console.log(range_r);\n",
    "            \"\"\",ready = self.ready, data=self.data)\n",
    "        \n",
    "    def ready(self):\n",
    "        self.is_ready = True\n",
    "        self.element.change_title(\"circle\")\n",
    "\n",
    "        \n",
    "t = circle_test([65,21,8,99,100,23])\n",
    "display(t.debugging_display())"
   ]
  },
  {
   "cell_type": "code",
   "execution_count": 156,
   "metadata": {},
   "outputs": [
    {
     "data": {
      "text/plain": [
       "False"
      ]
     },
     "execution_count": 156,
     "metadata": {},
     "output_type": "execute_result"
    }
   ],
   "source": [
    "t.is_ready"
   ]
  },
  {
   "cell_type": "code",
   "execution_count": 99,
   "metadata": {},
   "outputs": [],
   "source": [
    "demo.js_debug();"
   ]
  },
  {
   "cell_type": "code",
   "execution_count": null,
   "metadata": {},
   "outputs": [],
   "source": [
    "#         element.requirejs.config({\n",
    "#           paths: {\n",
    "#               d3: 'https://d3js.org/d3.v5.js'\n",
    "#           }\n",
    "#         });\n",
    "#             var mouse_enter = function(d) {\n",
    "#                 d3.select(this)\n",
    "#                   .transition()\n",
    "#                   .style(\"r\", 10)\n",
    "#                   .style(\"fill\",get_color(max_r-d+min_r));\n",
    "#             };\n",
    "#             var mouse_leave = function(d) {\n",
    "#                 d3.select(this)\n",
    "#                   .transition()\n",
    "#                   .style(\"r\", d)\n",
    "#                   .style(\"fill\",get_color(d));\n",
    "#             };"
   ]
  }
 ],
 "metadata": {
  "kernelspec": {
   "display_name": "Python 3",
   "language": "python",
   "name": "python3"
  },
  "language_info": {
   "codemirror_mode": {
    "name": "ipython",
    "version": 3
   },
   "file_extension": ".py",
   "mimetype": "text/x-python",
   "name": "python",
   "nbconvert_exporter": "python",
   "pygments_lexer": "ipython3",
   "version": "3.7.0"
  }
 },
 "nbformat": 4,
 "nbformat_minor": 4
}
