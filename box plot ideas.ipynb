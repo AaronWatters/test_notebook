{
 "cells": [
  {
   "cell_type": "code",
   "execution_count": 1,
   "metadata": {},
   "outputs": [],
   "source": [
    "from jp_doodle import dual_canvas\n",
    "from IPython.display import display\n",
    "import numpy as np"
   ]
  },
  {
   "cell_type": "code",
   "execution_count": 2,
   "metadata": {},
   "outputs": [],
   "source": [
    "def floatarray(seq):\n",
    "    return np.array(seq, dtype=np.float)\n",
    "\n",
    "class BoxPlot:\n",
    "    \n",
    "    def __init__(\n",
    "        self,\n",
    "        minimum,\n",
    "        maximum,\n",
    "        quartiles,\n",
    "        xy_position=(0,0),\n",
    "        dxdy=(0,1),\n",
    "        color=\"black\",\n",
    "        thin_line=1,\n",
    "        thick_line=5,\n",
    "        thicker_line=15,\n",
    "        dmedian=0.01,\n",
    "        ):\n",
    "        quartiles = self.quartiles = floatarray(quartiles)\n",
    "        self.minimum = float(minimum)\n",
    "        self.maximum = float(maximum)\n",
    "        (self.q25, self.q50, self.q75) = quartiles\n",
    "        self.xy = floatarray(xy_position)\n",
    "        self.dxdy = floatarray(dxdy)\n",
    "        self.color = color\n",
    "        self.thin = thin_line\n",
    "        self.thick = thick_line\n",
    "        self.thicker = thicker_line\n",
    "        self.dmedian = dmedian\n",
    "        \n",
    "    def draw(self, on_frame, at_xy=None):\n",
    "        if at_xy is None:\n",
    "            at_xy = floatarray(self.xy)\n",
    "        dxdy = self.dxdy\n",
    "        pmin = at_xy + dxdy * self.minimum\n",
    "        p25 = at_xy + dxdy * self.q25\n",
    "        p50 = at_xy + dxdy * self.q50\n",
    "        median_offset = (self.maximum - self.minimum) * self.dmedian\n",
    "        pmedian_low = p50 - dxdy * median_offset\n",
    "        pmedian_high = p50 + dxdy * median_offset\n",
    "        p75 = at_xy + dxdy * self.q75\n",
    "        pmax = at_xy + dxdy * self.maximum\n",
    "        lines = [\n",
    "            (self.thin, pmin, p25),\n",
    "            (self.thick, p25, p75),\n",
    "            (self.thicker, pmedian_low, pmedian_high),\n",
    "            (self.thin, p75, pmax),\n",
    "        ]\n",
    "        for (lineWidth, (x0,y0), (x1,y1)) in lines:\n",
    "            on_frame.line(x0, y0, x1, y1, color=self.color, lineWidth=lineWidth)"
   ]
  },
  {
   "cell_type": "code",
   "execution_count": 3,
   "metadata": {},
   "outputs": [],
   "source": [
    "B = BoxPlot(10, 90, (30, 40, 70))\n",
    "B2 = BoxPlot(20, 80, (30, 65, 70), color=\"green\", dxdy=(1,0))\n",
    "B3 = BoxPlot(14, 95, (20, 45, 70), color=\"blue\", dxdy=(1,1))"
   ]
  },
  {
   "cell_type": "code",
   "execution_count": 4,
   "metadata": {},
   "outputs": [
    {
     "data": {
      "application/vnd.jupyter.widget-view+json": {
       "model_id": "090228249e0a4c3fb38e9bab07dbd8e2",
       "version_major": 2,
       "version_minor": 0
      },
      "text/plain": [
       "DualCanvasWidget(status='deferring flush until render')"
      ]
     },
     "metadata": {},
     "output_type": "display_data"
    }
   ],
   "source": [
    "swatch = dual_canvas.swatch(pixels=300, model_height=120)"
   ]
  },
  {
   "cell_type": "code",
   "execution_count": 5,
   "metadata": {},
   "outputs": [],
   "source": [
    "B.draw(swatch)\n",
    "B2.draw(swatch)\n",
    "B3.draw(swatch)\n",
    "swatch.lower_left_axes(x_anchor=-10, y_anchor=-10, color=\"pink\", min_y=-20, min_x=-20, max_x=100, max_y=100)\n",
    "\n",
    "swatch.fit(margin=10)"
   ]
  },
  {
   "cell_type": "code",
   "execution_count": 6,
   "metadata": {},
   "outputs": [],
   "source": [
    "def random_box_plot(color):\n",
    "    marks = sorted(np.random.random(5) * 100)\n",
    "    return BoxPlot(marks[0], marks[-1], marks[1:-1], color=color)\n",
    "    "
   ]
  },
  {
   "cell_type": "code",
   "execution_count": 7,
   "metadata": {},
   "outputs": [
    {
     "data": {
      "application/vnd.jupyter.widget-view+json": {
       "model_id": "5c03aa1de021462bbd3e4dd8465d6158",
       "version_major": 2,
       "version_minor": 0
      },
      "text/plain": [
       "DualCanvasWidget(status='deferring flush until render')"
      ]
     },
     "metadata": {},
     "output_type": "display_data"
    }
   ],
   "source": [
    "swatch = dual_canvas.swatch(pixels=300, model_height=120)\n",
    "\n",
    "swatch.lower_left_axes(x_anchor=-10, y_anchor=-10, color=\"pink\", min_y=-20, min_x=-20, max_x=100, max_y=100)\n",
    "\n",
    "for i in range(10):\n",
    "    x = i*10\n",
    "    b = random_box_plot(\"green\")\n",
    "    b.draw(swatch, at_xy=(x, 0))\n",
    "    \n",
    "swatch.fit(margin=10)\n"
   ]
  },
  {
   "cell_type": "code",
   "execution_count": 24,
   "metadata": {},
   "outputs": [],
   "source": [
    "dx0 = floatarray([20, 0])\n",
    "x0Labels = \"man woman teen infant\".split()\n",
    "colors = \"red green blue cyan magenta\".split()\n",
    "\n",
    "dx1 = dx0 * (len(x0Labels) + 2)\n",
    "x1Labels = \"NY NJ CA TX\".split()\n",
    "\n",
    "dy = floatarray([0, 120])\n",
    "yLabels = \"meat vegetables fruit\".split()"
   ]
  },
  {
   "cell_type": "code",
   "execution_count": 28,
   "metadata": {},
   "outputs": [
    {
     "data": {
      "application/vnd.jupyter.widget-view+json": {
       "model_id": "8a3d51e4a1f2457a94f8d9fad023793b",
       "version_major": 2,
       "version_minor": 0
      },
      "text/plain": [
       "DualCanvasWidget(status='deferring flush until render')"
      ]
     },
     "metadata": {},
     "output_type": "display_data"
    }
   ],
   "source": [
    "swatch = dual_canvas.swatch(pixels=800, model_height=1200)\n",
    "\n",
    "guide_origin = dy * (len(yLabels))\n",
    "\n",
    "for (ix0, x0Label) in enumerate(x0Labels):\n",
    "    x0 = dx0 * ix0\n",
    "    p = guide_origin + x0\n",
    "    color = colors[ix0]\n",
    "    swatch.text(p[0], p[1], x0Label, degrees=90, color=color)\n",
    "\n",
    "for (iy, yLabel) in enumerate(yLabels):\n",
    "    y1 = iy * dy\n",
    "    swatch.text(-20, y1[1], yLabel, degrees=90)\n",
    "    for (ix1, x1Label) in enumerate(x1Labels):\n",
    "        x1 = ix1 * dx1\n",
    "        swatch.text(x1[0], -20, x1Label)\n",
    "        for (ix0, x0Label) in enumerate(x0Labels):\n",
    "            color = colors[ix0]\n",
    "            x0 = dx0 * ix0\n",
    "            p = y1 + x1 + x0\n",
    "            b = random_box_plot(color)\n",
    "            b.draw(swatch, at_xy=p)\n",
    "            \n",
    "swatch.fit(margin=20)"
   ]
  },
  {
   "cell_type": "code",
   "execution_count": null,
   "metadata": {},
   "outputs": [],
   "source": [
    "# example dataset"
   ]
  },
  {
   "cell_type": "code",
   "execution_count": 10,
   "metadata": {},
   "outputs": [
    {
     "name": "stdout",
     "output_type": "stream",
     "text": [
      "README.txt       student-merge.R  \u001b[31mstudent.txt\u001b[m\u001b[m*\r\n",
      "\u001b[31mstudent-mat.csv\u001b[m\u001b[m* \u001b[31mstudent-por.csv\u001b[m\u001b[m* student.zip\r\n"
     ]
    }
   ],
   "source": [
    "%ls student_performance/"
   ]
  },
  {
   "cell_type": "code",
   "execution_count": 11,
   "metadata": {},
   "outputs": [
    {
     "data": {
      "text/html": [
       "<style>.container { width:100% !important; }</style>"
      ],
      "text/plain": [
       "<IPython.core.display.HTML object>"
      ]
     },
     "metadata": {},
     "output_type": "display_data"
    }
   ],
   "source": [
    "fn = \"student_performance/student-por.csv\"\n",
    "from jp_doodle import data_tables\n",
    "data_tables.widen_notebook()"
   ]
  },
  {
   "cell_type": "code",
   "execution_count": 12,
   "metadata": {},
   "outputs": [
    {
     "data": {
      "application/vnd.jupyter.widget-view+json": {
       "model_id": "78f001e7421f416ab28149a0af764a48",
       "version_major": 2,
       "version_minor": 0
      },
      "text/plain": [
       "Table1(status='deferring flush until render')"
      ]
     },
     "metadata": {},
     "output_type": "display_data"
    }
   ],
   "source": [
    "import csv\n",
    "f = open(fn)\n",
    "reader = csv.reader(f, delimiter=\";\")\n",
    "headers = next(reader)\n",
    "body = list(reader)\n",
    "data_tables.Table1(headers, body)"
   ]
  },
  {
   "cell_type": "code",
   "execution_count": 12,
   "metadata": {},
   "outputs": [
    {
     "name": "stdout",
     "output_type": "stream",
     "text": [
      "# Attributes for both student-mat.csv (Math course) and student-por.csv (Portuguese language course) datasets:\n",
      "1 school - student's school (binary: \"GP\" - Gabriel Pereira or \"MS\" - Mousinho da Silveira)\n",
      "2 sex - student's sex (binary: \"F\" - female or \"M\" - male)\n",
      "3 age - student's age (numeric: from 15 to 22)\n",
      "4 address - student's home address type (binary: \"U\" - urban or \"R\" - rural)\n",
      "5 famsize - family size (binary: \"LE3\" - less or equal to 3 or \"GT3\" - greater than 3)\n",
      "6 Pstatus - parent's cohabitation status (binary: \"T\" - living together or \"A\" - apart)\n",
      "7 Medu - mother's education (numeric: 0 - none,  1 - primary education (4th grade), 2 – 5th to 9th grade, 3 – secondary education or 4 – higher education)\n",
      "8 Fedu - father's education (numeric: 0 - none,  1 - primary education (4th grade), 2 – 5th to 9th grade, 3 – secondary education or 4 – higher education)\n",
      "9 Mjob - mother's job (nominal: \"teacher\", \"health\" care related, civil \"services\" (e.g. administrative or police), \"at_home\" or \"other\")\n",
      "10 Fjob - father's job (nominal: \"teacher\", \"health\" care related, civil \"services\" (e.g. administrative or police), \"at_home\" or \"other\")\n",
      "11 reason - reason to choose this school (nominal: close to \"home\", school \"reputation\", \"course\" preference or \"other\")\n",
      "12 guardian - student's guardian (nominal: \"mother\", \"father\" or \"other\")\n",
      "13 traveltime - home to school travel time (numeric: 1 - <15 min., 2 - 15 to 30 min., 3 - 30 min. to 1 hour, or 4 - >1 hour)\n",
      "14 studytime - weekly study time (numeric: 1 - <2 hours, 2 - 2 to 5 hours, 3 - 5 to 10 hours, or 4 - >10 hours)\n",
      "15 failures - number of past class failures (numeric: n if 1<=n<3, else 4)\n",
      "16 schoolsup - extra educational support (binary: yes or no)\n",
      "17 famsup - family educational support (binary: yes or no)\n",
      "18 paid - extra paid classes within the course subject (Math or Portuguese) (binary: yes or no)\n",
      "19 activities - extra-curricular activities (binary: yes or no)\n",
      "20 nursery - attended nursery school (binary: yes or no)\n",
      "21 higher - wants to take higher education (binary: yes or no)\n",
      "22 internet - Internet access at home (binary: yes or no)\n",
      "23 romantic - with a romantic relationship (binary: yes or no)\n",
      "24 famrel - quality of family relationships (numeric: from 1 - very bad to 5 - excellent)\n",
      "25 freetime - free time after school (numeric: from 1 - very low to 5 - very high)\n",
      "26 goout - going out with friends (numeric: from 1 - very low to 5 - very high)\n",
      "27 Dalc - workday alcohol consumption (numeric: from 1 - very low to 5 - very high)\n",
      "28 Walc - weekend alcohol consumption (numeric: from 1 - very low to 5 - very high)\n",
      "29 health - current health status (numeric: from 1 - very bad to 5 - very good)\n",
      "30 absences - number of school absences (numeric: from 0 to 93)\n",
      "\n",
      "# these grades are related with the course subject, Math or Portuguese:\n",
      "31 G1 - first period grade (numeric: from 0 to 20)\n",
      "31 G2 - second period grade (numeric: from 0 to 20)\n",
      "32 G3 - final grade (numeric: from 0 to 20, output target)\n",
      "\n",
      "Additional note: there are several (382) students that belong to both datasets . \n",
      "These students can be identified by searching for identical attributes\n",
      "that characterize each student, as shown in the annexed R file.\n",
      "\n"
     ]
    }
   ],
   "source": [
    "print(open(\"student_performance/student.txt\").read())"
   ]
  },
  {
   "cell_type": "code",
   "execution_count": 13,
   "metadata": {},
   "outputs": [],
   "source": [
    "values = {h: set() for h in headers}\n",
    "for row in body:\n",
    "    for (h, v) in zip(headers, row):\n",
    "        values[h].add(v)"
   ]
  },
  {
   "cell_type": "code",
   "execution_count": 14,
   "metadata": {},
   "outputs": [
    {
     "data": {
      "text/plain": [
       "{'school': {'GP', 'MS'},\n",
       " 'sex': {'F', 'M'},\n",
       " 'age': {'15', '16', '17', '18', '19', '20', '21', '22'},\n",
       " 'address': {'R', 'U'},\n",
       " 'famsize': {'GT3', 'LE3'},\n",
       " 'Pstatus': {'A', 'T'},\n",
       " 'Medu': {'0', '1', '2', '3', '4'},\n",
       " 'Fedu': {'0', '1', '2', '3', '4'},\n",
       " 'Mjob': {'at_home', 'health', 'other', 'services', 'teacher'},\n",
       " 'Fjob': {'at_home', 'health', 'other', 'services', 'teacher'},\n",
       " 'reason': {'course', 'home', 'other', 'reputation'},\n",
       " 'guardian': {'father', 'mother', 'other'},\n",
       " 'traveltime': {'1', '2', '3', '4'},\n",
       " 'studytime': {'1', '2', '3', '4'},\n",
       " 'failures': {'0', '1', '2', '3'},\n",
       " 'schoolsup': {'no', 'yes'},\n",
       " 'famsup': {'no', 'yes'},\n",
       " 'paid': {'no', 'yes'},\n",
       " 'activities': {'no', 'yes'},\n",
       " 'nursery': {'no', 'yes'},\n",
       " 'higher': {'no', 'yes'},\n",
       " 'internet': {'no', 'yes'},\n",
       " 'romantic': {'no', 'yes'},\n",
       " 'famrel': {'1', '2', '3', '4', '5'},\n",
       " 'freetime': {'1', '2', '3', '4', '5'},\n",
       " 'goout': {'1', '2', '3', '4', '5'},\n",
       " 'Dalc': {'1', '2', '3', '4', '5'},\n",
       " 'Walc': {'1', '2', '3', '4', '5'},\n",
       " 'health': {'1', '2', '3', '4', '5'},\n",
       " 'absences': {'0',\n",
       "  '1',\n",
       "  '10',\n",
       "  '11',\n",
       "  '12',\n",
       "  '13',\n",
       "  '14',\n",
       "  '15',\n",
       "  '16',\n",
       "  '18',\n",
       "  '2',\n",
       "  '21',\n",
       "  '22',\n",
       "  '24',\n",
       "  '26',\n",
       "  '3',\n",
       "  '30',\n",
       "  '32',\n",
       "  '4',\n",
       "  '5',\n",
       "  '6',\n",
       "  '7',\n",
       "  '8',\n",
       "  '9'},\n",
       " 'G1': {'0',\n",
       "  '10',\n",
       "  '11',\n",
       "  '12',\n",
       "  '13',\n",
       "  '14',\n",
       "  '15',\n",
       "  '16',\n",
       "  '17',\n",
       "  '18',\n",
       "  '19',\n",
       "  '4',\n",
       "  '5',\n",
       "  '6',\n",
       "  '7',\n",
       "  '8',\n",
       "  '9'},\n",
       " 'G2': {'0',\n",
       "  '10',\n",
       "  '11',\n",
       "  '12',\n",
       "  '13',\n",
       "  '14',\n",
       "  '15',\n",
       "  '16',\n",
       "  '17',\n",
       "  '18',\n",
       "  '19',\n",
       "  '5',\n",
       "  '6',\n",
       "  '7',\n",
       "  '8',\n",
       "  '9'},\n",
       " 'G3': {'0',\n",
       "  '1',\n",
       "  '10',\n",
       "  '11',\n",
       "  '12',\n",
       "  '13',\n",
       "  '14',\n",
       "  '15',\n",
       "  '16',\n",
       "  '17',\n",
       "  '18',\n",
       "  '19',\n",
       "  '5',\n",
       "  '6',\n",
       "  '7',\n",
       "  '8',\n",
       "  '9'}}"
      ]
     },
     "execution_count": 14,
     "metadata": {},
     "output_type": "execute_result"
    }
   ],
   "source": [
    "values"
   ]
  },
  {
   "cell_type": "code",
   "execution_count": null,
   "metadata": {},
   "outputs": [],
   "source": []
  },
  {
   "cell_type": "markdown",
   "metadata": {},
   "source": [
    "________"
   ]
  },
  {
   "cell_type": "code",
   "execution_count": 29,
   "metadata": {},
   "outputs": [],
   "source": [
    "dx0 = floatarray([20, 0])\n",
    "x0Labels = ['F', 'M']\n",
    "colors = \"red green blue cyan magenta\".split()\n",
    "\n",
    "dx1 = dx0 * (len(x0Labels) + 2)\n",
    "x1Labels = ['at_home', 'health', 'other', 'services', 'teacher']\n",
    "\n",
    "dy = floatarray([0, 120])\n",
    "yLabels = ['at_home', 'health', 'other', 'services', 'teacher']"
   ]
  },
  {
   "cell_type": "code",
   "execution_count": 36,
   "metadata": {},
   "outputs": [],
   "source": [
    "import pandas as pd\n",
    "import numpy as np\n",
    "df = pd.read_csv(fn,delimiter=';')"
   ]
  },
  {
   "cell_type": "code",
   "execution_count": 37,
   "metadata": {},
   "outputs": [
    {
     "data": {
      "text/html": [
       "<div>\n",
       "<style scoped>\n",
       "    .dataframe tbody tr th:only-of-type {\n",
       "        vertical-align: middle;\n",
       "    }\n",
       "\n",
       "    .dataframe tbody tr th {\n",
       "        vertical-align: top;\n",
       "    }\n",
       "\n",
       "    .dataframe thead th {\n",
       "        text-align: right;\n",
       "    }\n",
       "</style>\n",
       "<table border=\"1\" class=\"dataframe\">\n",
       "  <thead>\n",
       "    <tr style=\"text-align: right;\">\n",
       "      <th></th>\n",
       "      <th>school</th>\n",
       "      <th>sex</th>\n",
       "      <th>age</th>\n",
       "      <th>address</th>\n",
       "      <th>famsize</th>\n",
       "      <th>Pstatus</th>\n",
       "      <th>Medu</th>\n",
       "      <th>Fedu</th>\n",
       "      <th>Mjob</th>\n",
       "      <th>Fjob</th>\n",
       "      <th>...</th>\n",
       "      <th>famrel</th>\n",
       "      <th>freetime</th>\n",
       "      <th>goout</th>\n",
       "      <th>Dalc</th>\n",
       "      <th>Walc</th>\n",
       "      <th>health</th>\n",
       "      <th>absences</th>\n",
       "      <th>G1</th>\n",
       "      <th>G2</th>\n",
       "      <th>G3</th>\n",
       "    </tr>\n",
       "  </thead>\n",
       "  <tbody>\n",
       "    <tr>\n",
       "      <td>0</td>\n",
       "      <td>GP</td>\n",
       "      <td>F</td>\n",
       "      <td>18</td>\n",
       "      <td>U</td>\n",
       "      <td>GT3</td>\n",
       "      <td>A</td>\n",
       "      <td>4</td>\n",
       "      <td>4</td>\n",
       "      <td>at_home</td>\n",
       "      <td>teacher</td>\n",
       "      <td>...</td>\n",
       "      <td>4</td>\n",
       "      <td>3</td>\n",
       "      <td>4</td>\n",
       "      <td>1</td>\n",
       "      <td>1</td>\n",
       "      <td>3</td>\n",
       "      <td>4</td>\n",
       "      <td>0</td>\n",
       "      <td>11</td>\n",
       "      <td>11</td>\n",
       "    </tr>\n",
       "    <tr>\n",
       "      <td>1</td>\n",
       "      <td>GP</td>\n",
       "      <td>F</td>\n",
       "      <td>17</td>\n",
       "      <td>U</td>\n",
       "      <td>GT3</td>\n",
       "      <td>T</td>\n",
       "      <td>1</td>\n",
       "      <td>1</td>\n",
       "      <td>at_home</td>\n",
       "      <td>other</td>\n",
       "      <td>...</td>\n",
       "      <td>5</td>\n",
       "      <td>3</td>\n",
       "      <td>3</td>\n",
       "      <td>1</td>\n",
       "      <td>1</td>\n",
       "      <td>3</td>\n",
       "      <td>2</td>\n",
       "      <td>9</td>\n",
       "      <td>11</td>\n",
       "      <td>11</td>\n",
       "    </tr>\n",
       "    <tr>\n",
       "      <td>2</td>\n",
       "      <td>GP</td>\n",
       "      <td>F</td>\n",
       "      <td>15</td>\n",
       "      <td>U</td>\n",
       "      <td>LE3</td>\n",
       "      <td>T</td>\n",
       "      <td>1</td>\n",
       "      <td>1</td>\n",
       "      <td>at_home</td>\n",
       "      <td>other</td>\n",
       "      <td>...</td>\n",
       "      <td>4</td>\n",
       "      <td>3</td>\n",
       "      <td>2</td>\n",
       "      <td>2</td>\n",
       "      <td>3</td>\n",
       "      <td>3</td>\n",
       "      <td>6</td>\n",
       "      <td>12</td>\n",
       "      <td>13</td>\n",
       "      <td>12</td>\n",
       "    </tr>\n",
       "    <tr>\n",
       "      <td>3</td>\n",
       "      <td>GP</td>\n",
       "      <td>F</td>\n",
       "      <td>15</td>\n",
       "      <td>U</td>\n",
       "      <td>GT3</td>\n",
       "      <td>T</td>\n",
       "      <td>4</td>\n",
       "      <td>2</td>\n",
       "      <td>health</td>\n",
       "      <td>services</td>\n",
       "      <td>...</td>\n",
       "      <td>3</td>\n",
       "      <td>2</td>\n",
       "      <td>2</td>\n",
       "      <td>1</td>\n",
       "      <td>1</td>\n",
       "      <td>5</td>\n",
       "      <td>0</td>\n",
       "      <td>14</td>\n",
       "      <td>14</td>\n",
       "      <td>14</td>\n",
       "    </tr>\n",
       "    <tr>\n",
       "      <td>4</td>\n",
       "      <td>GP</td>\n",
       "      <td>F</td>\n",
       "      <td>16</td>\n",
       "      <td>U</td>\n",
       "      <td>GT3</td>\n",
       "      <td>T</td>\n",
       "      <td>3</td>\n",
       "      <td>3</td>\n",
       "      <td>other</td>\n",
       "      <td>other</td>\n",
       "      <td>...</td>\n",
       "      <td>4</td>\n",
       "      <td>3</td>\n",
       "      <td>2</td>\n",
       "      <td>1</td>\n",
       "      <td>2</td>\n",
       "      <td>5</td>\n",
       "      <td>0</td>\n",
       "      <td>11</td>\n",
       "      <td>13</td>\n",
       "      <td>13</td>\n",
       "    </tr>\n",
       "  </tbody>\n",
       "</table>\n",
       "<p>5 rows × 33 columns</p>\n",
       "</div>"
      ],
      "text/plain": [
       "  school sex  age address famsize Pstatus  Medu  Fedu     Mjob      Fjob  ...  \\\n",
       "0     GP   F   18       U     GT3       A     4     4  at_home   teacher  ...   \n",
       "1     GP   F   17       U     GT3       T     1     1  at_home     other  ...   \n",
       "2     GP   F   15       U     LE3       T     1     1  at_home     other  ...   \n",
       "3     GP   F   15       U     GT3       T     4     2   health  services  ...   \n",
       "4     GP   F   16       U     GT3       T     3     3    other     other  ...   \n",
       "\n",
       "  famrel freetime  goout  Dalc  Walc health absences  G1  G2  G3  \n",
       "0      4        3      4     1     1      3        4   0  11  11  \n",
       "1      5        3      3     1     1      3        2   9  11  11  \n",
       "2      4        3      2     2     3      3        6  12  13  12  \n",
       "3      3        2      2     1     1      5        0  14  14  14  \n",
       "4      4        3      2     1     2      5        0  11  13  13  \n",
       "\n",
       "[5 rows x 33 columns]"
      ]
     },
     "execution_count": 37,
     "metadata": {},
     "output_type": "execute_result"
    }
   ],
   "source": [
    "df.head()"
   ]
  },
  {
   "cell_type": "code",
   "execution_count": 112,
   "metadata": {},
   "outputs": [
    {
     "data": {
      "text/html": [
       "<div>\n",
       "<style scoped>\n",
       "    .dataframe tbody tr th:only-of-type {\n",
       "        vertical-align: middle;\n",
       "    }\n",
       "\n",
       "    .dataframe tbody tr th {\n",
       "        vertical-align: top;\n",
       "    }\n",
       "\n",
       "    .dataframe thead tr th {\n",
       "        text-align: left;\n",
       "    }\n",
       "</style>\n",
       "<table border=\"1\" class=\"dataframe\">\n",
       "  <thead>\n",
       "    <tr>\n",
       "      <th></th>\n",
       "      <th>Mjob</th>\n",
       "      <th>Fjob</th>\n",
       "      <th>sex</th>\n",
       "      <th colspan=\"5\" halign=\"left\">G3</th>\n",
       "    </tr>\n",
       "    <tr>\n",
       "      <th></th>\n",
       "      <th></th>\n",
       "      <th></th>\n",
       "      <th></th>\n",
       "      <th>qmin</th>\n",
       "      <th>q25</th>\n",
       "      <th>median</th>\n",
       "      <th>q75</th>\n",
       "      <th>qmax</th>\n",
       "    </tr>\n",
       "  </thead>\n",
       "  <tbody>\n",
       "    <tr>\n",
       "      <td>0</td>\n",
       "      <td>at_home</td>\n",
       "      <td>at_home</td>\n",
       "      <td>F</td>\n",
       "      <td>0</td>\n",
       "      <td>10.0</td>\n",
       "      <td>12.0</td>\n",
       "      <td>14.0</td>\n",
       "      <td>18</td>\n",
       "    </tr>\n",
       "    <tr>\n",
       "      <td>1</td>\n",
       "      <td>at_home</td>\n",
       "      <td>at_home</td>\n",
       "      <td>M</td>\n",
       "      <td>8</td>\n",
       "      <td>10.0</td>\n",
       "      <td>11.0</td>\n",
       "      <td>13.0</td>\n",
       "      <td>18</td>\n",
       "    </tr>\n",
       "    <tr>\n",
       "      <td>2</td>\n",
       "      <td>at_home</td>\n",
       "      <td>health</td>\n",
       "      <td>F</td>\n",
       "      <td>16</td>\n",
       "      <td>16.0</td>\n",
       "      <td>16.0</td>\n",
       "      <td>16.0</td>\n",
       "      <td>16</td>\n",
       "    </tr>\n",
       "    <tr>\n",
       "      <td>3</td>\n",
       "      <td>at_home</td>\n",
       "      <td>health</td>\n",
       "      <td>M</td>\n",
       "      <td>6</td>\n",
       "      <td>6.0</td>\n",
       "      <td>6.0</td>\n",
       "      <td>6.0</td>\n",
       "      <td>6</td>\n",
       "    </tr>\n",
       "    <tr>\n",
       "      <td>4</td>\n",
       "      <td>at_home</td>\n",
       "      <td>other</td>\n",
       "      <td>F</td>\n",
       "      <td>0</td>\n",
       "      <td>10.0</td>\n",
       "      <td>11.0</td>\n",
       "      <td>13.0</td>\n",
       "      <td>18</td>\n",
       "    </tr>\n",
       "  </tbody>\n",
       "</table>\n",
       "</div>"
      ],
      "text/plain": [
       "      Mjob     Fjob sex   G3                        \n",
       "                        qmin   q25 median   q75 qmax\n",
       "0  at_home  at_home   F    0  10.0   12.0  14.0   18\n",
       "1  at_home  at_home   M    8  10.0   11.0  13.0   18\n",
       "2  at_home   health   F   16  16.0   16.0  16.0   16\n",
       "3  at_home   health   M    6   6.0    6.0   6.0    6\n",
       "4  at_home    other   F    0  10.0   11.0  13.0   18"
      ]
     },
     "execution_count": 112,
     "metadata": {},
     "output_type": "execute_result"
    }
   ],
   "source": [
    "def q25(x):\n",
    "    return x.quantile(0.25)\n",
    "def q75(x):\n",
    "    return x.quantile(0.75)\n",
    "def qmin(x):\n",
    "#     return q25(x)-1.5*(q75(x)-q25(x))\n",
    "    return x.min()\n",
    "def qmax(x):\n",
    "#     return q75(x)+1.5*(q75(x)-q25(x))\n",
    "    return x.max()\n",
    "\n",
    "df_stat = df.groupby(['Mjob','Fjob','sex']).agg({'G3':[qmin,q25,'median',q75,qmax]}).reset_index()\n",
    "df_stat.head()"
   ]
  },
  {
   "cell_type": "code",
   "execution_count": 113,
   "metadata": {},
   "outputs": [
    {
     "data": {
      "text/html": [
       "<div>\n",
       "<style scoped>\n",
       "    .dataframe tbody tr th:only-of-type {\n",
       "        vertical-align: middle;\n",
       "    }\n",
       "\n",
       "    .dataframe tbody tr th {\n",
       "        vertical-align: top;\n",
       "    }\n",
       "\n",
       "    .dataframe thead th {\n",
       "        text-align: right;\n",
       "    }\n",
       "</style>\n",
       "<table border=\"1\" class=\"dataframe\">\n",
       "  <thead>\n",
       "    <tr style=\"text-align: right;\">\n",
       "      <th></th>\n",
       "      <th>qmin</th>\n",
       "      <th>q25</th>\n",
       "      <th>median</th>\n",
       "      <th>q75</th>\n",
       "      <th>qmax</th>\n",
       "    </tr>\n",
       "  </thead>\n",
       "  <tbody>\n",
       "    <tr>\n",
       "      <td>2</td>\n",
       "      <td>16</td>\n",
       "      <td>16.0</td>\n",
       "      <td>16.0</td>\n",
       "      <td>16.0</td>\n",
       "      <td>16</td>\n",
       "    </tr>\n",
       "  </tbody>\n",
       "</table>\n",
       "</div>"
      ],
      "text/plain": [
       "   qmin   q25  median   q75  qmax\n",
       "2    16  16.0    16.0  16.0    16"
      ]
     },
     "execution_count": 113,
     "metadata": {},
     "output_type": "execute_result"
    }
   ],
   "source": [
    "df_stat.iloc[df_stat.groupby(['Mjob','Fjob','sex']).groups['at_home','health','F']]['G3']"
   ]
  },
  {
   "cell_type": "code",
   "execution_count": 121,
   "metadata": {},
   "outputs": [],
   "source": [
    "def get_stat(g1, g2, g3, color):\n",
    "    df_group = df_stat.groupby(['Mjob','Fjob','sex']).groups\n",
    "    stat = None\n",
    "    if (g1, g2, g3) not in df_group:\n",
    "        stat = np.array([0.,0.,0.,0.,0.])\n",
    "    else:\n",
    "        stat = df_stat.iloc[df_group[g1,g2,g3]]['G3'].values[0]\n",
    "    return BoxPlot(stat[0], stat[-1], stat[1:-1], color=color)"
   ]
  },
  {
   "cell_type": "code",
   "execution_count": 125,
   "metadata": {},
   "outputs": [
    {
     "data": {
      "application/vnd.jupyter.widget-view+json": {
       "model_id": "70c1caf4db0f4823a8380d35107d71ce",
       "version_major": 2,
       "version_minor": 0
      },
      "text/plain": [
       "DualCanvasWidget(status='deferring flush until render')"
      ]
     },
     "metadata": {},
     "output_type": "display_data"
    }
   ],
   "source": [
    "swatch = dual_canvas.swatch(pixels=800, model_height=1200)\n",
    "\n",
    "guide_origin = dy * (len(yLabels))\n",
    "\n",
    "for (ix0, x0Label) in enumerate(x0Labels):\n",
    "    x0 = dx0 * ix0\n",
    "    p = guide_origin + x0\n",
    "    color = colors[ix0]\n",
    "    swatch.text(p[0], p[1], x0Label, degrees=90, color=color)\n",
    "\n",
    "for (iy, yLabel) in enumerate(yLabels):\n",
    "    y1 = iy * dy\n",
    "    swatch.text(-20, y1[1], yLabel, degrees=90)\n",
    "    for (ix1, x1Label) in enumerate(x1Labels):\n",
    "        x1 = ix1 * dx1\n",
    "        swatch.text(x1[0], -20, x1Label)\n",
    "        for (ix0, x0Label) in enumerate(x0Labels):\n",
    "            color = colors[ix0]\n",
    "            x0 = dx0 * ix0\n",
    "            p = y1 + x1 + x0\n",
    "            b = get_stat(yLabel, x1Label, x0Label, color)\n",
    "            b.draw(swatch, at_xy=p)\n",
    "            \n",
    "swatch.fit(margin=10)"
   ]
  },
  {
   "cell_type": "code",
   "execution_count": null,
   "metadata": {},
   "outputs": [],
   "source": []
  }
 ],
 "metadata": {
  "kernelspec": {
   "display_name": "Python 3",
   "language": "python",
   "name": "python3"
  },
  "language_info": {
   "codemirror_mode": {
    "name": "ipython",
    "version": 3
   },
   "file_extension": ".py",
   "mimetype": "text/x-python",
   "name": "python",
   "nbconvert_exporter": "python",
   "pygments_lexer": "ipython3",
   "version": "3.7.0"
  }
 },
 "nbformat": 4,
 "nbformat_minor": 4
}
