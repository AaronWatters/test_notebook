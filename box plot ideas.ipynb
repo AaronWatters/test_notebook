{
 "cells": [
  {
   "cell_type": "code",
   "execution_count": null,
   "metadata": {},
   "outputs": [],
   "source": [
    "from jp_doodle import dual_canvas\n",
    "from IPython.display import display\n",
    "import numpy as np"
   ]
  },
  {
   "cell_type": "code",
   "execution_count": null,
   "metadata": {},
   "outputs": [],
   "source": [
    "def floatarray(seq):\n",
    "    return np.array(seq, dtype=np.float)\n",
    "\n",
    "class BoxPlot:\n",
    "    \n",
    "    def __init__(\n",
    "        self,\n",
    "        minimum,\n",
    "        maximum,\n",
    "        quartiles,\n",
    "        xy_position=(0,0),\n",
    "        dxdy=(0,1),\n",
    "        color=\"black\",\n",
    "        thin_line=1,\n",
    "        thick_line=5,\n",
    "        thicker_line=15,\n",
    "        dmedian=0.01,\n",
    "        ):\n",
    "        quartiles = self.quartiles = floatarray(quartiles)\n",
    "        self.minimum = float(minimum)\n",
    "        self.maximum = float(maximum)\n",
    "        (self.q25, self.q50, self.q75) = quartiles\n",
    "        self.xy = floatarray(xy_position)\n",
    "        self.dxdy = floatarray(dxdy)\n",
    "        self.color = color\n",
    "        self.thin = thin_line\n",
    "        self.thick = thick_line\n",
    "        self.thicker = thicker_line\n",
    "        self.dmedian = dmedian\n",
    "        \n",
    "    def draw(self, on_frame, at_xy=None):\n",
    "        if at_xy is None:\n",
    "            at_xy = floatarray(self.xy)\n",
    "        dxdy = self.dxdy\n",
    "        pmin = at_xy + dxdy * self.minimum\n",
    "        p25 = at_xy + dxdy * self.q25\n",
    "        p50 = at_xy + dxdy * self.q50\n",
    "        median_offset = (self.maximum - self.minimum) * self.dmedian\n",
    "        pmedian_low = p50 - dxdy * median_offset\n",
    "        pmedian_high = p50 + dxdy * median_offset\n",
    "        p75 = at_xy + dxdy * self.q75\n",
    "        pmax = at_xy + dxdy * self.maximum\n",
    "        lines = [\n",
    "            (self.thin, pmin, p25),\n",
    "            (self.thick, p25, p75),\n",
    "            (self.thicker, pmedian_low, pmedian_high),\n",
    "            (self.thin, p75, pmax),\n",
    "        ]\n",
    "        for (lineWidth, (x0,y0), (x1,y1)) in lines:\n",
    "            on_frame.line(x0, y0, x1, y1, color=self.color, lineWidth=lineWidth)"
   ]
  },
  {
   "cell_type": "code",
   "execution_count": null,
   "metadata": {},
   "outputs": [],
   "source": [
    "B = BoxPlot(10, 90, (30, 40, 70))\n",
    "B2 = BoxPlot(20, 80, (30, 65, 70), color=\"green\", dxdy=(1,0))\n",
    "B3 = BoxPlot(14, 95, (20, 45, 70), color=\"blue\", dxdy=(1,1))"
   ]
  },
  {
   "cell_type": "code",
   "execution_count": null,
   "metadata": {},
   "outputs": [],
   "source": [
    "swatch = dual_canvas.swatch(pixels=300, model_height=120)"
   ]
  },
  {
   "cell_type": "code",
   "execution_count": null,
   "metadata": {},
   "outputs": [],
   "source": [
    "B.draw(swatch)\n",
    "B2.draw(swatch)\n",
    "B3.draw(swatch)\n",
    "swatch.lower_left_axes(x_anchor=-10, y_anchor=-10, color=\"pink\", min_y=-20, min_x=-20, max_x=100, max_y=100)\n",
    "\n",
    "swatch.fit(margin=10)"
   ]
  },
  {
   "cell_type": "code",
   "execution_count": null,
   "metadata": {},
   "outputs": [],
   "source": [
    "def random_box_plot(color):\n",
    "    marks = sorted(np.random.random(5) * 100)\n",
    "    return BoxPlot(marks[0], marks[-1], marks[1:-1], color=color)\n",
    "    "
   ]
  },
  {
   "cell_type": "code",
   "execution_count": null,
   "metadata": {},
   "outputs": [],
   "source": [
    "swatch = dual_canvas.swatch(pixels=300, model_height=120)\n",
    "\n",
    "swatch.lower_left_axes(x_anchor=-10, y_anchor=-10, color=\"pink\", min_y=-20, min_x=-20, max_x=100, max_y=100)\n",
    "\n",
    "for i in range(10):\n",
    "    x = i*10\n",
    "    b = random_box_plot(\"green\")\n",
    "    b.draw(swatch, at_xy=(x, 0))\n",
    "    \n",
    "swatch.fit(margin=10)\n"
   ]
  },
  {
   "cell_type": "code",
   "execution_count": null,
   "metadata": {},
   "outputs": [],
   "source": [
    "dx0 = floatarray([20, 0])\n",
    "x0Labels = \"man woman teen infant\".split()\n",
    "colors = \"red green blue cyan magenta\".split()\n",
    "\n",
    "dx1 = dx0 * (len(x0Labels) + 2)\n",
    "x1Labels = \"NY NJ CA TX\".split()\n",
    "\n",
    "dy = floatarray([0, 120])\n",
    "yLabels = \"meat vegetables fruit\".split()"
   ]
  },
  {
   "cell_type": "code",
   "execution_count": null,
   "metadata": {},
   "outputs": [],
   "source": [
    "swatch = dual_canvas.swatch(pixels=800, model_height=1200)\n",
    "\n",
    "guide_origin = dy * (len(yLabels))\n",
    "\n",
    "for (ix0, x0Label) in enumerate(x0Labels):\n",
    "    x0 = dx0 * ix0\n",
    "    p = guide_origin + x0\n",
    "    color = colors[ix0]\n",
    "    swatch.text(p[0], p[1], x0Label, degrees=90, color=color)\n",
    "\n",
    "for (iy, yLabel) in enumerate(yLabels):\n",
    "    y1 = iy * dy\n",
    "    swatch.text(-20, y1[1], yLabel, degrees=90)\n",
    "    for (ix1, x1Label) in enumerate(x1Labels):\n",
    "        x1 = ix1 * dx1\n",
    "        swatch.text(x1[0], -20, x1Label)\n",
    "        for (ix0, x0Label) in enumerate(x0Labels):\n",
    "            color = colors[ix0]\n",
    "            x0 = dx0 * ix0\n",
    "            p = y1 + x1 + x0\n",
    "            b = random_box_plot(color)\n",
    "            b.draw(swatch, at_xy=p)\n",
    "            \n",
    "swatch.fit(margin=20)"
   ]
  },
  {
   "cell_type": "code",
   "execution_count": null,
   "metadata": {},
   "outputs": [],
   "source": [
    "# example dataset"
   ]
  },
  {
   "cell_type": "code",
   "execution_count": 1,
   "metadata": {},
   "outputs": [
    {
     "name": "stdout",
     "output_type": "stream",
     "text": [
      "README.txt       student-merge.R  \u001b[31mstudent.txt\u001b[m\u001b[m*\r\n",
      "\u001b[31mstudent-mat.csv\u001b[m\u001b[m* \u001b[31mstudent-por.csv\u001b[m\u001b[m* student.zip\r\n"
     ]
    }
   ],
   "source": [
    "%ls student_performance/"
   ]
  },
  {
   "cell_type": "code",
   "execution_count": 10,
   "metadata": {},
   "outputs": [
    {
     "data": {
      "text/html": [
       "<style>.container { width:100% !important; }</style>"
      ],
      "text/plain": [
       "<IPython.core.display.HTML object>"
      ]
     },
     "metadata": {},
     "output_type": "display_data"
    }
   ],
   "source": [
    "fn = \"student_performance/student-por.csv\"\n",
    "from jp_doodle import data_tables\n",
    "data_tables.widen_notebook()"
   ]
  },
  {
   "cell_type": "code",
   "execution_count": 9,
   "metadata": {},
   "outputs": [
    {
     "data": {
      "application/vnd.jupyter.widget-view+json": {
       "model_id": "7407ef1f5b2c4b51b7139d6bad464fc8",
       "version_major": 2,
       "version_minor": 0
      },
      "text/plain": [
       "Table1(status='deferring flush until render')"
      ]
     },
     "metadata": {},
     "output_type": "display_data"
    }
   ],
   "source": [
    "import csv\n",
    "f = open(fn)\n",
    "reader = csv.reader(f, delimiter=\";\")\n",
    "headers = next(reader)\n",
    "body = list(reader)\n",
    "data_tables.Table1(headers, body)"
   ]
  },
  {
   "cell_type": "code",
   "execution_count": 12,
   "metadata": {},
   "outputs": [
    {
     "name": "stdout",
     "output_type": "stream",
     "text": [
      "# Attributes for both student-mat.csv (Math course) and student-por.csv (Portuguese language course) datasets:\n",
      "1 school - student's school (binary: \"GP\" - Gabriel Pereira or \"MS\" - Mousinho da Silveira)\n",
      "2 sex - student's sex (binary: \"F\" - female or \"M\" - male)\n",
      "3 age - student's age (numeric: from 15 to 22)\n",
      "4 address - student's home address type (binary: \"U\" - urban or \"R\" - rural)\n",
      "5 famsize - family size (binary: \"LE3\" - less or equal to 3 or \"GT3\" - greater than 3)\n",
      "6 Pstatus - parent's cohabitation status (binary: \"T\" - living together or \"A\" - apart)\n",
      "7 Medu - mother's education (numeric: 0 - none,  1 - primary education (4th grade), 2 – 5th to 9th grade, 3 – secondary education or 4 – higher education)\n",
      "8 Fedu - father's education (numeric: 0 - none,  1 - primary education (4th grade), 2 – 5th to 9th grade, 3 – secondary education or 4 – higher education)\n",
      "9 Mjob - mother's job (nominal: \"teacher\", \"health\" care related, civil \"services\" (e.g. administrative or police), \"at_home\" or \"other\")\n",
      "10 Fjob - father's job (nominal: \"teacher\", \"health\" care related, civil \"services\" (e.g. administrative or police), \"at_home\" or \"other\")\n",
      "11 reason - reason to choose this school (nominal: close to \"home\", school \"reputation\", \"course\" preference or \"other\")\n",
      "12 guardian - student's guardian (nominal: \"mother\", \"father\" or \"other\")\n",
      "13 traveltime - home to school travel time (numeric: 1 - <15 min., 2 - 15 to 30 min., 3 - 30 min. to 1 hour, or 4 - >1 hour)\n",
      "14 studytime - weekly study time (numeric: 1 - <2 hours, 2 - 2 to 5 hours, 3 - 5 to 10 hours, or 4 - >10 hours)\n",
      "15 failures - number of past class failures (numeric: n if 1<=n<3, else 4)\n",
      "16 schoolsup - extra educational support (binary: yes or no)\n",
      "17 famsup - family educational support (binary: yes or no)\n",
      "18 paid - extra paid classes within the course subject (Math or Portuguese) (binary: yes or no)\n",
      "19 activities - extra-curricular activities (binary: yes or no)\n",
      "20 nursery - attended nursery school (binary: yes or no)\n",
      "21 higher - wants to take higher education (binary: yes or no)\n",
      "22 internet - Internet access at home (binary: yes or no)\n",
      "23 romantic - with a romantic relationship (binary: yes or no)\n",
      "24 famrel - quality of family relationships (numeric: from 1 - very bad to 5 - excellent)\n",
      "25 freetime - free time after school (numeric: from 1 - very low to 5 - very high)\n",
      "26 goout - going out with friends (numeric: from 1 - very low to 5 - very high)\n",
      "27 Dalc - workday alcohol consumption (numeric: from 1 - very low to 5 - very high)\n",
      "28 Walc - weekend alcohol consumption (numeric: from 1 - very low to 5 - very high)\n",
      "29 health - current health status (numeric: from 1 - very bad to 5 - very good)\n",
      "30 absences - number of school absences (numeric: from 0 to 93)\n",
      "\n",
      "# these grades are related with the course subject, Math or Portuguese:\n",
      "31 G1 - first period grade (numeric: from 0 to 20)\n",
      "31 G2 - second period grade (numeric: from 0 to 20)\n",
      "32 G3 - final grade (numeric: from 0 to 20, output target)\n",
      "\n",
      "Additional note: there are several (382) students that belong to both datasets . \n",
      "These students can be identified by searching for identical attributes\n",
      "that characterize each student, as shown in the annexed R file.\n",
      "\n"
     ]
    }
   ],
   "source": [
    "print(open(\"student_performance/student.txt\").read())"
   ]
  },
  {
   "cell_type": "code",
   "execution_count": null,
   "metadata": {},
   "outputs": [],
   "source": []
  }
 ],
 "metadata": {
  "kernelspec": {
   "display_name": "Python 3",
   "language": "python",
   "name": "python3"
  },
  "language_info": {
   "codemirror_mode": {
    "name": "ipython",
    "version": 3
   },
   "file_extension": ".py",
   "mimetype": "text/x-python",
   "name": "python",
   "nbconvert_exporter": "python",
   "pygments_lexer": "ipython3",
   "version": "3.6.8"
  }
 },
 "nbformat": 4,
 "nbformat_minor": 4
}
