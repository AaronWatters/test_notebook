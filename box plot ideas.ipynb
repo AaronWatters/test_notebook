{
 "cells": [
  {
   "cell_type": "code",
   "execution_count": 1,
   "metadata": {},
   "outputs": [],
   "source": [
    "from jp_doodle import dual_canvas\n",
    "from IPython.display import display\n",
    "import numpy as np"
   ]
  },
  {
   "cell_type": "code",
   "execution_count": 2,
   "metadata": {},
   "outputs": [],
   "source": [
    "def floatarray(seq):\n",
    "    return np.array(seq, dtype=np.float)\n",
    "\n",
    "class BoxPlot:\n",
    "    \n",
    "    def __init__(\n",
    "        self,\n",
    "        minimum,\n",
    "        maximum,\n",
    "        quartiles,\n",
    "        xy_position=(0,0),\n",
    "        dxdy=(0,1),\n",
    "        color=\"black\",\n",
    "        thin_line=1,\n",
    "        thick_line=5,\n",
    "        thicker_line=15,\n",
    "        dmedian=0.01,\n",
    "        ):\n",
    "        quartiles = self.quartiles = floatarray(quartiles)\n",
    "        self.minimum = float(minimum)\n",
    "        self.maximum = float(maximum)\n",
    "        (self.q25, self.q50, self.q75) = quartiles\n",
    "        self.xy = floatarray(xy_position)\n",
    "        self.dxdy = floatarray(dxdy)\n",
    "        self.color = color\n",
    "        self.thin = thin_line\n",
    "        self.thick = thick_line\n",
    "        self.thicker = thicker_line\n",
    "        self.dmedian = dmedian\n",
    "        \n",
    "    def draw(self, on_frame, at_xy=None):\n",
    "        if at_xy is None:\n",
    "            at_xy = floatarray(self.xy)\n",
    "        dxdy = self.dxdy\n",
    "        pmin = at_xy + dxdy * self.minimum\n",
    "        p25 = at_xy + dxdy * self.q25\n",
    "        p50 = at_xy + dxdy * self.q50\n",
    "        median_offset = (self.maximum - self.minimum) * self.dmedian\n",
    "        pmedian_low = p50 - dxdy * median_offset\n",
    "        pmedian_high = p50 + dxdy * median_offset\n",
    "        p75 = at_xy + dxdy * self.q75\n",
    "        pmax = at_xy + dxdy * self.maximum\n",
    "        lines = [\n",
    "            (self.thin, pmin, p25),\n",
    "            (self.thick, p25, p75),\n",
    "            (self.thicker, pmedian_low, pmedian_high),\n",
    "            (self.thin, p75, pmax),\n",
    "        ]\n",
    "        for (lineWidth, (x0,y0), (x1,y1)) in lines:\n",
    "            on_frame.line(x0, y0, x1, y1, color=self.color, lineWidth=lineWidth)"
   ]
  },
  {
   "cell_type": "code",
   "execution_count": 6,
   "metadata": {},
   "outputs": [],
   "source": [
    "B = BoxPlot(10, 90, (30, 40, 70))\n",
    "B2 = BoxPlot(20, 80, (30, 65, 70), color=\"green\", dxdy=(1,0))\n",
    "B3 = BoxPlot(14, 95, (20, 45, 70), color=\"blue\", dxdy=(1,1))"
   ]
  },
  {
   "cell_type": "code",
   "execution_count": 7,
   "metadata": {},
   "outputs": [
    {
     "data": {
      "application/vnd.jupyter.widget-view+json": {
       "model_id": "99ce9f4168234dfa89b1c222e74b3b9c",
       "version_major": 2,
       "version_minor": 0
      },
      "text/plain": [
       "DualCanvasWidget(status='deferring flush until render')"
      ]
     },
     "metadata": {},
     "output_type": "display_data"
    }
   ],
   "source": [
    "swatch = dual_canvas.swatch(pixels=300, model_height=120)"
   ]
  },
  {
   "cell_type": "code",
   "execution_count": 8,
   "metadata": {},
   "outputs": [],
   "source": [
    "B.draw(swatch)\n",
    "B2.draw(swatch)\n",
    "B3.draw(swatch)\n",
    "swatch.lower_left_axes(x_anchor=-10, y_anchor=-10, color=\"pink\", min_y=-20, min_x=-20, max_x=100, max_y=100)\n",
    "\n",
    "swatch.fit(margin=10)"
   ]
  },
  {
   "cell_type": "code",
   "execution_count": 14,
   "metadata": {},
   "outputs": [],
   "source": [
    "def random_box_plot(color):\n",
    "    marks = sorted(np.random.random(5) * 100)\n",
    "    return BoxPlot(marks[0], marks[-1], marks[1:-1], color=color)\n",
    "    "
   ]
  },
  {
   "cell_type": "code",
   "execution_count": 16,
   "metadata": {},
   "outputs": [
    {
     "data": {
      "application/vnd.jupyter.widget-view+json": {
       "model_id": "a617aa8ef94a4060a6c00003cbdb2995",
       "version_major": 2,
       "version_minor": 0
      },
      "text/plain": [
       "DualCanvasWidget(status='deferring flush until render')"
      ]
     },
     "metadata": {},
     "output_type": "display_data"
    }
   ],
   "source": [
    "swatch = dual_canvas.swatch(pixels=300, model_height=120)\n",
    "\n",
    "swatch.lower_left_axes(x_anchor=-10, y_anchor=-10, color=\"pink\", min_y=-20, min_x=-20, max_x=100, max_y=100)\n",
    "\n",
    "for i in range(10):\n",
    "    x = i*10\n",
    "    b = random_box_plot(\"green\")\n",
    "    b.draw(swatch, at_xy=(x, 0))\n",
    "    \n",
    "swatch.fit(margin=10)\n"
   ]
  },
  {
   "cell_type": "code",
   "execution_count": 22,
   "metadata": {},
   "outputs": [],
   "source": [
    "dx0 = floatarray([20, 0])\n",
    "x0Labels = \"man woman teen infant\".split()\n",
    "colors = \"red green blue cyan magenta\".split()\n",
    "\n",
    "dx1 = dx0 * (len(x0Labels) + 2)\n",
    "x1Labels = \"NY NJ CA TX\".split()\n",
    "\n",
    "dy = floatarray([0, 120])\n",
    "yLabels = \"meat vegetables fruit\".split()"
   ]
  },
  {
   "cell_type": "code",
   "execution_count": 27,
   "metadata": {},
   "outputs": [
    {
     "data": {
      "application/vnd.jupyter.widget-view+json": {
       "model_id": "e283a33af613440797482c8d86819824",
       "version_major": 2,
       "version_minor": 0
      },
      "text/plain": [
       "DualCanvasWidget(status='deferring flush until render')"
      ]
     },
     "metadata": {},
     "output_type": "display_data"
    }
   ],
   "source": [
    "swatch = dual_canvas.swatch(pixels=800, model_height=1200)\n",
    "\n",
    "guide_origin = dy * (len(yLabels))\n",
    "\n",
    "for (ix0, x0Label) in enumerate(x0Labels):\n",
    "    x0 = dx0 * ix0\n",
    "    p = guide_origin + x0\n",
    "    color = colors[ix0]\n",
    "    swatch.text(p[0], p[1], x0Label, degrees=90, color=color)\n",
    "\n",
    "for (iy, yLabel) in enumerate(yLabels):\n",
    "    y1 = iy * dy\n",
    "    swatch.text(-20, y1[1], yLabel, degrees=90)\n",
    "    for (ix1, x1Label) in enumerate(x1Labels):\n",
    "        x1 = ix1 * dx1\n",
    "        swatch.text(x1[0], -20, x1Label)\n",
    "        for (ix0, x0Label) in enumerate(x0Labels):\n",
    "            color = colors[ix0]\n",
    "            x0 = dx0 * ix0\n",
    "            p = y1 + x1 + x0\n",
    "            b = random_box_plot(color)\n",
    "            b.draw(swatch, at_xy=p)\n",
    "            \n",
    "swatch.fit(margin=20)"
   ]
  },
  {
   "cell_type": "code",
   "execution_count": null,
   "metadata": {},
   "outputs": [],
   "source": []
  }
 ],
 "metadata": {
  "kernelspec": {
   "display_name": "Python 3",
   "language": "python",
   "name": "python3"
  },
  "language_info": {
   "codemirror_mode": {
    "name": "ipython",
    "version": 3
   },
   "file_extension": ".py",
   "mimetype": "text/x-python",
   "name": "python",
   "nbconvert_exporter": "python",
   "pygments_lexer": "ipython3",
   "version": "3.6.8"
  }
 },
 "nbformat": 4,
 "nbformat_minor": 4
}
