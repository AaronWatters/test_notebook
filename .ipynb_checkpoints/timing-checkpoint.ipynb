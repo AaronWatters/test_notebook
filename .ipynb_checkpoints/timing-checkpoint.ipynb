{
 "cells": [
  {
   "cell_type": "code",
   "execution_count": 1,
   "metadata": {},
   "outputs": [],
   "source": [
    "from jp_doodle import dual_canvas\n",
    "from IPython.display import display\n",
    "from datetime import datetime"
   ]
  },
  {
   "cell_type": "code",
   "execution_count": 2,
   "metadata": {
    "scrolled": false
   },
   "outputs": [
    {
     "data": {
      "application/vnd.jupyter.widget-view+json": {
       "model_id": "c048d30bf6b443a68933890f352445ed",
       "version_major": 2,
       "version_minor": 0
      },
      "text/plain": [
       "VBox(children=(DualCanvasWidget(status='Not yet rendered'), Text(value='Not yet rendered', description='status…"
      ]
     },
     "metadata": {},
     "output_type": "display_data"
    }
   ],
   "source": [
    "demo = dual_canvas.DualCanvasWidget(width=820, height=820, font='italic 50px Courier')\n",
    "txt1 = demo.text(10,10,\"00:00.000\",color='red', name=True)\n",
    "txt2 = demo.text(10,110,\"00:00.000\",color='blue', name=True)\n",
    "txt3 = demo.text(10,210,\"00:00.000\",color='orange', name=True)\n",
    "demo.rect(0,0,300,100,color='green')\n",
    "demo.rect(0,200,300,100,color='green')\n",
    "demo.fit()\n",
    "demo.debugging_display()"
   ]
  },
  {
   "cell_type": "code",
   "execution_count": 3,
   "metadata": {},
   "outputs": [],
   "source": [
    "txts = [txt1,txt2,txt3]\n",
    "start = datetime.now()\n",
    "\n",
    "def switch(s=start):\n",
    "    from datetime import datetime\n",
    "    global txts\n",
    "    [A,B,C] = txts\n",
    "#     print(A.name,B.name,C.name)\n",
    "    elap = datetime.now() - s\n",
    "    sec = elap.seconds \n",
    "    mili = int(elap.microseconds/1000)\n",
    "    minute = int(sec/60)\n",
    "    A.transition(y=110,seconds_duration=0.8,text=str(minute)+':'+str(sec%60)+'.'+str(mili))\n",
    "    B.transition(y=210,seconds_duration=0.8)\n",
    "    C.change(y=10)#,seconds_duration=0.001)\n",
    "    a, b, c = C, A, B\n",
    "#     print(a.name,b.name,c.name)\n",
    "    txts = [a, b, c]"
   ]
  },
  {
   "cell_type": "code",
   "execution_count": 4,
   "metadata": {},
   "outputs": [],
   "source": [
    "switch(start)"
   ]
  },
  {
   "cell_type": "code",
   "execution_count": 5,
   "metadata": {},
   "outputs": [
    {
     "data": {
      "text/plain": [
       "FragileReference(4816654008)"
      ]
     },
     "execution_count": 5,
     "metadata": {},
     "output_type": "execute_result"
    }
   ],
   "source": [
    "demo.js_init(\"\"\"\n",
    "     element.setTimeout = function(callback, ms) {\n",
    "         window.setTimeout(callback, ms);\n",
    "     };\n",
    "\"\"\")\n",
    "\n",
    "def repeat_switch(ms=1000):\n",
    "    switch()\n",
    "    \n",
    "    demo.element.setTimeout(repeat_switch, ms)\n",
    "\n",
    "demo.element.setTimeout(repeat_switch, 1000)"
   ]
  },
  {
   "cell_type": "code",
   "execution_count": 7,
   "metadata": {},
   "outputs": [
    {
     "data": {
      "text/plain": [
       "[1645,\n",
       " [['function',\n",
       "   ['method',\n",
       "    ['element'],\n",
       "    'New',\n",
       "    ['get', ['window'], 'Function'],\n",
       "    ['list', 'element', 'debugger;']],\n",
       "   ['element']]],\n",
       " 1]"
      ]
     },
     "execution_count": 7,
     "metadata": {},
     "output_type": "execute_result"
    }
   ],
   "source": [
    "demo.js_debug()"
   ]
  },
  {
   "cell_type": "markdown",
   "metadata": {},
   "source": [
    "_____"
   ]
  },
  {
   "cell_type": "code",
   "execution_count": 1,
   "metadata": {},
   "outputs": [],
   "source": [
    "class Timer:\n",
    "    def __init__(self):\n",
    "        from jp_doodle import dual_canvas\n",
    "        from IPython.display import display\n",
    "        from time import sleep\n",
    "        from datetime import datetime\n",
    "        \n",
    "        self.demo = dual_canvas.DualCanvasWidget(width=820, height=820, font='italic 50px Courier')\n",
    "        \n",
    "        self.demo.text(70,114,\":\",color='black')\n",
    "        self.demo.text(160,114,\":\",color='black')\n",
    "        self.min_txts = self.text_init('red', 10, \"00\")\n",
    "        self.sec_txts = self.text_init('blue', 100, \"00\")\n",
    "        self.hsec_txts = self.text_init('orange', 190, \"00\")\n",
    "        \n",
    "        self.demo.rect(0,0,300,100,color='green')\n",
    "        self.demo.rect(0,200,300,100,color='green')\n",
    "        \n",
    "        self.start = None\n",
    "        self.demo.js_init(\"\"\"\n",
    "            element.setTimeout = function(callback, ms) {\n",
    "                window.setTimeout(callback, ms);\n",
    "            };\n",
    "        \"\"\")\n",
    "        self.demo.fit()\n",
    "        self.widget = self.demo\n",
    "    \n",
    "    def text_init(self,color, x, text_ini):\n",
    "        txt1 = self.demo.text(x,10,text_ini,color=color, name=True)\n",
    "        txt2 = self.demo.text(x,110,text_ini,color=color, name=True)\n",
    "        txt3 = self.demo.text(x,210,text_ini,color=color, name=True)\n",
    "        return [txt1, txt2, txt3]    \n",
    "    \n",
    "    def start_timing(self):\n",
    "        from datetime import datetime\n",
    "        \n",
    "        self.start = datetime.now()\n",
    "        self.repeat_time('hsec', 300)\n",
    "        self.repeat_time('sec', 1000)\n",
    "        self.repeat_time('min', 60000)\n",
    "    \n",
    "    def repeat_time(self, unit, ms):\n",
    "        '''\n",
    "        unit = 'min', 'sec', 'hsec'\n",
    "        '''\n",
    "        self.timing(unit)\n",
    "        self.demo.element.setTimeout(lambda: self.repeat_time(unit, ms), ms)\n",
    "    \n",
    "    def timing(self, unit):\n",
    "        '''\n",
    "        unit = 'min', 'sec', 'hsec'\n",
    "        '''\n",
    "        from datetime import datetime\n",
    "        elap = datetime.now() - self.start\n",
    "        sec = elap.seconds\n",
    "        minute = int(sec/60)\n",
    "        hsec = int(elap.microseconds/10000)\n",
    "        \n",
    "        [a, b, c] = [0,0,0]\n",
    "        dur = 1\n",
    "        if unit=='min':\n",
    "            [a, b, c] = self.min_txts\n",
    "            dur = 0.6\n",
    "            self.txt_transition(a, b, c, dur, minute)\n",
    "            self.min_txts = [c, a, b]\n",
    "        elif unit=='sec':\n",
    "            [a, b, c] = self.sec_txts\n",
    "            dur = 0.6\n",
    "            txt_sec = sec%60\n",
    "            self.txt_transition(a, b, c, dur, txt_sec)\n",
    "            self.sec_txts = [c, a, b]\n",
    "        else:\n",
    "            [a, b, c] = self.hsec_txts\n",
    "            dur = 0.2\n",
    "            self.txt_transition(a, b, c, dur, hsec)\n",
    "            self.hsec_txts = [c, a, b]\n",
    "\n",
    "    def txt_transition(self, a, b, c, seconds_duration, txt):\n",
    "        b.transition(y=110, seconds_duration=seconds_duration, text='%02d' %txt)\n",
    "        a.transition(y=10, seconds_duration=0.001)\n",
    "        c.transition(y=210,seconds_duration=seconds_duration)"
   ]
  },
  {
   "cell_type": "code",
   "execution_count": 2,
   "metadata": {},
   "outputs": [
    {
     "data": {
      "application/vnd.jupyter.widget-view+json": {
       "model_id": "2ccbfafbc5904e2b9fd186f8e02de4ee",
       "version_major": 2,
       "version_minor": 0
      },
      "text/plain": [
       "VBox(children=(DualCanvasWidget(status='Not yet rendered'), Text(value='Not yet rendered', description='status…"
      ]
     },
     "metadata": {},
     "output_type": "display_data"
    }
   ],
   "source": [
    "t = Timer()\n",
    "t.widget.debugging_display()"
   ]
  },
  {
   "cell_type": "code",
   "execution_count": 3,
   "metadata": {},
   "outputs": [],
   "source": [
    "t.start_timing()"
   ]
  }
 ],
 "metadata": {
  "kernelspec": {
   "display_name": "Python 3",
   "language": "python",
   "name": "python3"
  },
  "language_info": {
   "codemirror_mode": {
    "name": "ipython",
    "version": 3
   },
   "file_extension": ".py",
   "mimetype": "text/x-python",
   "name": "python",
   "nbconvert_exporter": "python",
   "pygments_lexer": "ipython3",
   "version": "3.7.0"
  }
 },
 "nbformat": 4,
 "nbformat_minor": 4
}
